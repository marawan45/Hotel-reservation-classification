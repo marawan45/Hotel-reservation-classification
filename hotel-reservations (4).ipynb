{
 "cells": [
  {
   "cell_type": "markdown",
   "metadata": {},
   "source": [
    "<h1 style=\"color:#023e8a;\">Project Overview and dataset</h1>\n",
    "<p style=\"font-weight: bold; font-size:18px; color:#219ebc;\">Hotel Reservation Database, You can view and download the dataset from <a href = https://www.kaggle.com/datasets/ahsan81/hotel-reservations-classification-dataset> Hotel </a></p>"
   ]
  },
  {
   "cell_type": "markdown",
   "metadata": {},
   "source": [
    "<h2 style=\"color:#023e8a;\">Reading dataset</h2>"
   ]
  },
  {
   "cell_type": "code",
   "execution_count": 1,
   "metadata": {
    "execution": {
     "iopub.execute_input": "2023-12-27T15:18:13.142473Z",
     "iopub.status.busy": "2023-12-27T15:18:13.141722Z",
     "iopub.status.idle": "2023-12-27T15:18:13.677098Z",
     "shell.execute_reply": "2023-12-27T15:18:13.676117Z",
     "shell.execute_reply.started": "2023-12-27T15:18:13.142439Z"
    }
   },
   "outputs": [
    {
     "data": {
      "text/html": [
       "<div>\n",
       "<style scoped>\n",
       "    .dataframe tbody tr th:only-of-type {\n",
       "        vertical-align: middle;\n",
       "    }\n",
       "\n",
       "    .dataframe tbody tr th {\n",
       "        vertical-align: top;\n",
       "    }\n",
       "\n",
       "    .dataframe thead th {\n",
       "        text-align: right;\n",
       "    }\n",
       "</style>\n",
       "<table border=\"1\" class=\"dataframe\">\n",
       "  <thead>\n",
       "    <tr style=\"text-align: right;\">\n",
       "      <th></th>\n",
       "      <th>Booking_ID</th>\n",
       "      <th>no_of_adults</th>\n",
       "      <th>no_of_children</th>\n",
       "      <th>no_of_weekend_nights</th>\n",
       "      <th>no_of_week_nights</th>\n",
       "      <th>type_of_meal_plan</th>\n",
       "      <th>required_car_parking_space</th>\n",
       "      <th>room_type_reserved</th>\n",
       "      <th>lead_time</th>\n",
       "      <th>arrival_year</th>\n",
       "      <th>arrival_month</th>\n",
       "      <th>arrival_date</th>\n",
       "      <th>market_segment_type</th>\n",
       "      <th>repeated_guest</th>\n",
       "      <th>no_of_previous_cancellations</th>\n",
       "      <th>no_of_previous_bookings_not_canceled</th>\n",
       "      <th>avg_price_per_room</th>\n",
       "      <th>no_of_special_requests</th>\n",
       "      <th>booking_status</th>\n",
       "    </tr>\n",
       "  </thead>\n",
       "  <tbody>\n",
       "    <tr>\n",
       "      <th>0</th>\n",
       "      <td>INN00001</td>\n",
       "      <td>2</td>\n",
       "      <td>0</td>\n",
       "      <td>1</td>\n",
       "      <td>2</td>\n",
       "      <td>Meal Plan 1</td>\n",
       "      <td>0</td>\n",
       "      <td>Room_Type 1</td>\n",
       "      <td>224</td>\n",
       "      <td>2017</td>\n",
       "      <td>10</td>\n",
       "      <td>2</td>\n",
       "      <td>Offline</td>\n",
       "      <td>0</td>\n",
       "      <td>0</td>\n",
       "      <td>0</td>\n",
       "      <td>65.00</td>\n",
       "      <td>0</td>\n",
       "      <td>Not_Canceled</td>\n",
       "    </tr>\n",
       "    <tr>\n",
       "      <th>1</th>\n",
       "      <td>INN00002</td>\n",
       "      <td>2</td>\n",
       "      <td>0</td>\n",
       "      <td>2</td>\n",
       "      <td>3</td>\n",
       "      <td>Not Selected</td>\n",
       "      <td>0</td>\n",
       "      <td>Room_Type 1</td>\n",
       "      <td>5</td>\n",
       "      <td>2018</td>\n",
       "      <td>11</td>\n",
       "      <td>6</td>\n",
       "      <td>Online</td>\n",
       "      <td>0</td>\n",
       "      <td>0</td>\n",
       "      <td>0</td>\n",
       "      <td>106.68</td>\n",
       "      <td>1</td>\n",
       "      <td>Not_Canceled</td>\n",
       "    </tr>\n",
       "    <tr>\n",
       "      <th>2</th>\n",
       "      <td>INN00003</td>\n",
       "      <td>1</td>\n",
       "      <td>0</td>\n",
       "      <td>2</td>\n",
       "      <td>1</td>\n",
       "      <td>Meal Plan 1</td>\n",
       "      <td>0</td>\n",
       "      <td>Room_Type 1</td>\n",
       "      <td>1</td>\n",
       "      <td>2018</td>\n",
       "      <td>2</td>\n",
       "      <td>28</td>\n",
       "      <td>Online</td>\n",
       "      <td>0</td>\n",
       "      <td>0</td>\n",
       "      <td>0</td>\n",
       "      <td>60.00</td>\n",
       "      <td>0</td>\n",
       "      <td>Canceled</td>\n",
       "    </tr>\n",
       "    <tr>\n",
       "      <th>3</th>\n",
       "      <td>INN00004</td>\n",
       "      <td>2</td>\n",
       "      <td>0</td>\n",
       "      <td>0</td>\n",
       "      <td>2</td>\n",
       "      <td>Meal Plan 1</td>\n",
       "      <td>0</td>\n",
       "      <td>Room_Type 1</td>\n",
       "      <td>211</td>\n",
       "      <td>2018</td>\n",
       "      <td>5</td>\n",
       "      <td>20</td>\n",
       "      <td>Online</td>\n",
       "      <td>0</td>\n",
       "      <td>0</td>\n",
       "      <td>0</td>\n",
       "      <td>100.00</td>\n",
       "      <td>0</td>\n",
       "      <td>Canceled</td>\n",
       "    </tr>\n",
       "    <tr>\n",
       "      <th>4</th>\n",
       "      <td>INN00005</td>\n",
       "      <td>2</td>\n",
       "      <td>0</td>\n",
       "      <td>1</td>\n",
       "      <td>1</td>\n",
       "      <td>Not Selected</td>\n",
       "      <td>0</td>\n",
       "      <td>Room_Type 1</td>\n",
       "      <td>48</td>\n",
       "      <td>2018</td>\n",
       "      <td>4</td>\n",
       "      <td>11</td>\n",
       "      <td>Online</td>\n",
       "      <td>0</td>\n",
       "      <td>0</td>\n",
       "      <td>0</td>\n",
       "      <td>94.50</td>\n",
       "      <td>0</td>\n",
       "      <td>Canceled</td>\n",
       "    </tr>\n",
       "    <tr>\n",
       "      <th>5</th>\n",
       "      <td>INN00006</td>\n",
       "      <td>2</td>\n",
       "      <td>0</td>\n",
       "      <td>0</td>\n",
       "      <td>2</td>\n",
       "      <td>Meal Plan 2</td>\n",
       "      <td>0</td>\n",
       "      <td>Room_Type 1</td>\n",
       "      <td>346</td>\n",
       "      <td>2018</td>\n",
       "      <td>9</td>\n",
       "      <td>13</td>\n",
       "      <td>Online</td>\n",
       "      <td>0</td>\n",
       "      <td>0</td>\n",
       "      <td>0</td>\n",
       "      <td>115.00</td>\n",
       "      <td>1</td>\n",
       "      <td>Canceled</td>\n",
       "    </tr>\n",
       "    <tr>\n",
       "      <th>6</th>\n",
       "      <td>INN00007</td>\n",
       "      <td>2</td>\n",
       "      <td>0</td>\n",
       "      <td>1</td>\n",
       "      <td>3</td>\n",
       "      <td>Meal Plan 1</td>\n",
       "      <td>0</td>\n",
       "      <td>Room_Type 1</td>\n",
       "      <td>34</td>\n",
       "      <td>2017</td>\n",
       "      <td>10</td>\n",
       "      <td>15</td>\n",
       "      <td>Online</td>\n",
       "      <td>0</td>\n",
       "      <td>0</td>\n",
       "      <td>0</td>\n",
       "      <td>107.55</td>\n",
       "      <td>1</td>\n",
       "      <td>Not_Canceled</td>\n",
       "    </tr>\n",
       "    <tr>\n",
       "      <th>7</th>\n",
       "      <td>INN00008</td>\n",
       "      <td>2</td>\n",
       "      <td>0</td>\n",
       "      <td>1</td>\n",
       "      <td>3</td>\n",
       "      <td>Meal Plan 1</td>\n",
       "      <td>0</td>\n",
       "      <td>Room_Type 4</td>\n",
       "      <td>83</td>\n",
       "      <td>2018</td>\n",
       "      <td>12</td>\n",
       "      <td>26</td>\n",
       "      <td>Online</td>\n",
       "      <td>0</td>\n",
       "      <td>0</td>\n",
       "      <td>0</td>\n",
       "      <td>105.61</td>\n",
       "      <td>1</td>\n",
       "      <td>Not_Canceled</td>\n",
       "    </tr>\n",
       "    <tr>\n",
       "      <th>8</th>\n",
       "      <td>INN00009</td>\n",
       "      <td>3</td>\n",
       "      <td>0</td>\n",
       "      <td>0</td>\n",
       "      <td>4</td>\n",
       "      <td>Meal Plan 1</td>\n",
       "      <td>0</td>\n",
       "      <td>Room_Type 1</td>\n",
       "      <td>121</td>\n",
       "      <td>2018</td>\n",
       "      <td>7</td>\n",
       "      <td>6</td>\n",
       "      <td>Offline</td>\n",
       "      <td>0</td>\n",
       "      <td>0</td>\n",
       "      <td>0</td>\n",
       "      <td>96.90</td>\n",
       "      <td>1</td>\n",
       "      <td>Not_Canceled</td>\n",
       "    </tr>\n",
       "    <tr>\n",
       "      <th>9</th>\n",
       "      <td>INN00010</td>\n",
       "      <td>2</td>\n",
       "      <td>0</td>\n",
       "      <td>0</td>\n",
       "      <td>5</td>\n",
       "      <td>Meal Plan 1</td>\n",
       "      <td>0</td>\n",
       "      <td>Room_Type 4</td>\n",
       "      <td>44</td>\n",
       "      <td>2018</td>\n",
       "      <td>10</td>\n",
       "      <td>18</td>\n",
       "      <td>Online</td>\n",
       "      <td>0</td>\n",
       "      <td>0</td>\n",
       "      <td>0</td>\n",
       "      <td>133.44</td>\n",
       "      <td>3</td>\n",
       "      <td>Not_Canceled</td>\n",
       "    </tr>\n",
       "  </tbody>\n",
       "</table>\n",
       "</div>"
      ],
      "text/plain": [
       "  Booking_ID  no_of_adults  no_of_children  no_of_weekend_nights  \\\n",
       "0   INN00001             2               0                     1   \n",
       "1   INN00002             2               0                     2   \n",
       "2   INN00003             1               0                     2   \n",
       "3   INN00004             2               0                     0   \n",
       "4   INN00005             2               0                     1   \n",
       "5   INN00006             2               0                     0   \n",
       "6   INN00007             2               0                     1   \n",
       "7   INN00008             2               0                     1   \n",
       "8   INN00009             3               0                     0   \n",
       "9   INN00010             2               0                     0   \n",
       "\n",
       "   no_of_week_nights type_of_meal_plan  required_car_parking_space  \\\n",
       "0                  2       Meal Plan 1                           0   \n",
       "1                  3      Not Selected                           0   \n",
       "2                  1       Meal Plan 1                           0   \n",
       "3                  2       Meal Plan 1                           0   \n",
       "4                  1      Not Selected                           0   \n",
       "5                  2       Meal Plan 2                           0   \n",
       "6                  3       Meal Plan 1                           0   \n",
       "7                  3       Meal Plan 1                           0   \n",
       "8                  4       Meal Plan 1                           0   \n",
       "9                  5       Meal Plan 1                           0   \n",
       "\n",
       "  room_type_reserved  lead_time  arrival_year  arrival_month  arrival_date  \\\n",
       "0        Room_Type 1        224          2017             10             2   \n",
       "1        Room_Type 1          5          2018             11             6   \n",
       "2        Room_Type 1          1          2018              2            28   \n",
       "3        Room_Type 1        211          2018              5            20   \n",
       "4        Room_Type 1         48          2018              4            11   \n",
       "5        Room_Type 1        346          2018              9            13   \n",
       "6        Room_Type 1         34          2017             10            15   \n",
       "7        Room_Type 4         83          2018             12            26   \n",
       "8        Room_Type 1        121          2018              7             6   \n",
       "9        Room_Type 4         44          2018             10            18   \n",
       "\n",
       "  market_segment_type  repeated_guest  no_of_previous_cancellations  \\\n",
       "0             Offline               0                             0   \n",
       "1              Online               0                             0   \n",
       "2              Online               0                             0   \n",
       "3              Online               0                             0   \n",
       "4              Online               0                             0   \n",
       "5              Online               0                             0   \n",
       "6              Online               0                             0   \n",
       "7              Online               0                             0   \n",
       "8             Offline               0                             0   \n",
       "9              Online               0                             0   \n",
       "\n",
       "   no_of_previous_bookings_not_canceled  avg_price_per_room  \\\n",
       "0                                     0               65.00   \n",
       "1                                     0              106.68   \n",
       "2                                     0               60.00   \n",
       "3                                     0              100.00   \n",
       "4                                     0               94.50   \n",
       "5                                     0              115.00   \n",
       "6                                     0              107.55   \n",
       "7                                     0              105.61   \n",
       "8                                     0               96.90   \n",
       "9                                     0              133.44   \n",
       "\n",
       "   no_of_special_requests booking_status  \n",
       "0                       0   Not_Canceled  \n",
       "1                       1   Not_Canceled  \n",
       "2                       0       Canceled  \n",
       "3                       0       Canceled  \n",
       "4                       0       Canceled  \n",
       "5                       1       Canceled  \n",
       "6                       1   Not_Canceled  \n",
       "7                       1   Not_Canceled  \n",
       "8                       1   Not_Canceled  \n",
       "9                       3   Not_Canceled  "
      ]
     },
     "execution_count": 1,
     "metadata": {},
     "output_type": "execute_result"
    }
   ],
   "source": [
    "import warnings\n",
    "warnings.filterwarnings(\"ignore\")\n",
    "\n",
    "import pandas as pd\n",
    "data = pd.read_csv('/kaggle/input/hotel-reservations-classification-dataset/Hotel Reservations.csv')\n",
    "data.head(10)"
   ]
  },
  {
   "cell_type": "markdown",
   "metadata": {},
   "source": [
    "<h3 style=\"color:#023e8a;\">Data type</h3>"
   ]
  },
  {
   "cell_type": "code",
   "execution_count": 2,
   "metadata": {
    "execution": {
     "iopub.execute_input": "2023-12-27T15:18:13.679928Z",
     "iopub.status.busy": "2023-12-27T15:18:13.679157Z",
     "iopub.status.idle": "2023-12-27T15:18:13.687596Z",
     "shell.execute_reply": "2023-12-27T15:18:13.686691Z",
     "shell.execute_reply.started": "2023-12-27T15:18:13.679889Z"
    }
   },
   "outputs": [
    {
     "data": {
      "text/plain": [
       "Booking_ID                               object\n",
       "no_of_adults                              int64\n",
       "no_of_children                            int64\n",
       "no_of_weekend_nights                      int64\n",
       "no_of_week_nights                         int64\n",
       "type_of_meal_plan                        object\n",
       "required_car_parking_space                int64\n",
       "room_type_reserved                       object\n",
       "lead_time                                 int64\n",
       "arrival_year                              int64\n",
       "arrival_month                             int64\n",
       "arrival_date                              int64\n",
       "market_segment_type                      object\n",
       "repeated_guest                            int64\n",
       "no_of_previous_cancellations              int64\n",
       "no_of_previous_bookings_not_canceled      int64\n",
       "avg_price_per_room                      float64\n",
       "no_of_special_requests                    int64\n",
       "booking_status                           object\n",
       "dtype: object"
      ]
     },
     "execution_count": 2,
     "metadata": {},
     "output_type": "execute_result"
    }
   ],
   "source": [
    "data.dtypes"
   ]
  },
  {
   "cell_type": "markdown",
   "metadata": {},
   "source": [
    "<h3 style=\"color:#023e8a;\">The Numbers of samples and features</h3>"
   ]
  },
  {
   "cell_type": "code",
   "execution_count": 3,
   "metadata": {
    "execution": {
     "iopub.execute_input": "2023-12-27T15:18:13.688954Z",
     "iopub.status.busy": "2023-12-27T15:18:13.688620Z",
     "iopub.status.idle": "2023-12-27T15:18:13.697532Z",
     "shell.execute_reply": "2023-12-27T15:18:13.696708Z",
     "shell.execute_reply.started": "2023-12-27T15:18:13.688930Z"
    }
   },
   "outputs": [
    {
     "name": "stdout",
     "output_type": "stream",
     "text": [
      "Number of samples : 36275\n",
      "Number of features : 19\n"
     ]
    }
   ],
   "source": [
    "num_samples = data.shape[0] \n",
    "num_features = data.shape[1]\n",
    "\n",
    "print(f'Number of samples : {num_samples}')\n",
    "print(f'Number of features : {num_features}')"
   ]
  },
  {
   "cell_type": "markdown",
   "metadata": {
    "execution": {
     "iopub.execute_input": "2023-12-24T00:04:01.915284Z",
     "iopub.status.busy": "2023-12-24T00:04:01.914907Z",
     "iopub.status.idle": "2023-12-24T00:04:01.921569Z",
     "shell.execute_reply": "2023-12-24T00:04:01.920308Z",
     "shell.execute_reply.started": "2023-12-24T00:04:01.915256Z"
    }
   },
   "source": [
    "<h3 style=\"color:#023e8a;\">Numeric columns and Categorical columns</h3>"
   ]
  },
  {
   "cell_type": "code",
   "execution_count": 4,
   "metadata": {
    "execution": {
     "iopub.execute_input": "2023-12-27T15:18:13.700105Z",
     "iopub.status.busy": "2023-12-27T15:18:13.699828Z",
     "iopub.status.idle": "2023-12-27T15:18:13.710501Z",
     "shell.execute_reply": "2023-12-27T15:18:13.709588Z",
     "shell.execute_reply.started": "2023-12-27T15:18:13.700076Z"
    }
   },
   "outputs": [
    {
     "name": "stdout",
     "output_type": "stream",
     "text": [
      "Numeric Columns:\n",
      "['no_of_adults', 'no_of_children', 'no_of_weekend_nights', 'no_of_week_nights', 'required_car_parking_space', 'lead_time', 'arrival_year', 'arrival_month', 'arrival_date', 'repeated_guest', 'no_of_previous_cancellations', 'no_of_previous_bookings_not_canceled', 'avg_price_per_room', 'no_of_special_requests']\n",
      "\n",
      "Categorical Columns:\n",
      "['Booking_ID', 'type_of_meal_plan', 'room_type_reserved', 'market_segment_type', 'booking_status']\n"
     ]
    }
   ],
   "source": [
    "numeric_columns = data.select_dtypes(include=['float64', 'int64']).columns.tolist()\n",
    "categorical_columns = data.select_dtypes(exclude=['float64', 'int64']).columns.tolist()\n",
    "\n",
    "print(\"Numeric Columns:\")\n",
    "print(numeric_columns)\n",
    "\n",
    "print(\"\\nCategorical Columns:\")\n",
    "print(categorical_columns)"
   ]
  },
  {
   "cell_type": "markdown",
   "metadata": {},
   "source": [
    "<h3 style=\"color:#023e8a;\">Missing values</h3>"
   ]
  },
  {
   "cell_type": "code",
   "execution_count": 5,
   "metadata": {
    "execution": {
     "iopub.execute_input": "2023-12-27T15:18:13.711943Z",
     "iopub.status.busy": "2023-12-27T15:18:13.711646Z",
     "iopub.status.idle": "2023-12-27T15:18:13.738203Z",
     "shell.execute_reply": "2023-12-27T15:18:13.737304Z",
     "shell.execute_reply.started": "2023-12-27T15:18:13.711919Z"
    }
   },
   "outputs": [
    {
     "data": {
      "text/plain": [
       "Booking_ID                              0\n",
       "no_of_adults                            0\n",
       "no_of_children                          0\n",
       "no_of_weekend_nights                    0\n",
       "no_of_week_nights                       0\n",
       "type_of_meal_plan                       0\n",
       "required_car_parking_space              0\n",
       "room_type_reserved                      0\n",
       "lead_time                               0\n",
       "arrival_year                            0\n",
       "arrival_month                           0\n",
       "arrival_date                            0\n",
       "market_segment_type                     0\n",
       "repeated_guest                          0\n",
       "no_of_previous_cancellations            0\n",
       "no_of_previous_bookings_not_canceled    0\n",
       "avg_price_per_room                      0\n",
       "no_of_special_requests                  0\n",
       "booking_status                          0\n",
       "dtype: int64"
      ]
     },
     "execution_count": 5,
     "metadata": {},
     "output_type": "execute_result"
    }
   ],
   "source": [
    "data.isnull().sum()"
   ]
  },
  {
   "cell_type": "markdown",
   "metadata": {
    "execution": {
     "iopub.execute_input": "2023-12-24T00:07:41.549604Z",
     "iopub.status.busy": "2023-12-24T00:07:41.548470Z",
     "iopub.status.idle": "2023-12-24T00:07:41.555818Z",
     "shell.execute_reply": "2023-12-24T00:07:41.554508Z",
     "shell.execute_reply.started": "2023-12-24T00:07:41.549561Z"
    }
   },
   "source": [
    "<h3 style=\"color:#023e8a;\">Data clean</h3>"
   ]
  },
  {
   "cell_type": "code",
   "execution_count": 6,
   "metadata": {
    "execution": {
     "iopub.execute_input": "2023-12-27T15:18:13.739549Z",
     "iopub.status.busy": "2023-12-27T15:18:13.739285Z",
     "iopub.status.idle": "2023-12-27T15:18:13.765988Z",
     "shell.execute_reply": "2023-12-27T15:18:13.765072Z",
     "shell.execute_reply.started": "2023-12-27T15:18:13.739526Z"
    }
   },
   "outputs": [
    {
     "name": "stdout",
     "output_type": "stream",
     "text": [
      "['Meal Plan 1' 'Not Selected' 'Meal Plan 2' 'Meal Plan 3']\n",
      "['Room_Type 1' 'Room_Type 4' 'Room_Type 2' 'Room_Type 6' 'Room_Type 5'\n",
      " 'Room_Type 7' 'Room_Type 3']\n",
      "['Offline' 'Online' 'Corporate' 'Aviation' 'Complementary']\n",
      "['Not_Canceled' 'Canceled']\n",
      "['Meal Plan 1' 'Not Selected' 'Meal Plan 2' 'Meal Plan 3']\n",
      "['Offline' 'Online' 'Corporate' 'Aviation' 'Complementary']\n"
     ]
    }
   ],
   "source": [
    "print(data['type_of_meal_plan'].unique())\n",
    "print(data['room_type_reserved'].unique())\n",
    "print(data['market_segment_type'].unique())\n",
    "print(data['booking_status'].unique())\n",
    "print(data['type_of_meal_plan'].unique())\n",
    "print(data['market_segment_type'].unique())"
   ]
  },
  {
   "cell_type": "markdown",
   "metadata": {},
   "source": [
    "<h3 style=\"color:#023e8a;\">Encoding Data\n",
    "</h3>"
   ]
  },
  {
   "cell_type": "code",
   "execution_count": 7,
   "metadata": {
    "execution": {
     "iopub.execute_input": "2023-12-27T15:18:13.767376Z",
     "iopub.status.busy": "2023-12-27T15:18:13.767087Z",
     "iopub.status.idle": "2023-12-27T15:18:13.904950Z",
     "shell.execute_reply": "2023-12-27T15:18:13.903979Z",
     "shell.execute_reply.started": "2023-12-27T15:18:13.767350Z"
    }
   },
   "outputs": [
    {
     "data": {
      "text/html": [
       "<div>\n",
       "<style scoped>\n",
       "    .dataframe tbody tr th:only-of-type {\n",
       "        vertical-align: middle;\n",
       "    }\n",
       "\n",
       "    .dataframe tbody tr th {\n",
       "        vertical-align: top;\n",
       "    }\n",
       "\n",
       "    .dataframe thead th {\n",
       "        text-align: right;\n",
       "    }\n",
       "</style>\n",
       "<table border=\"1\" class=\"dataframe\">\n",
       "  <thead>\n",
       "    <tr style=\"text-align: right;\">\n",
       "      <th></th>\n",
       "      <th>Booking_ID</th>\n",
       "      <th>no_of_adults</th>\n",
       "      <th>no_of_children</th>\n",
       "      <th>no_of_weekend_nights</th>\n",
       "      <th>no_of_week_nights</th>\n",
       "      <th>type_of_meal_plan</th>\n",
       "      <th>required_car_parking_space</th>\n",
       "      <th>room_type_reserved</th>\n",
       "      <th>lead_time</th>\n",
       "      <th>arrival_year</th>\n",
       "      <th>arrival_month</th>\n",
       "      <th>arrival_date</th>\n",
       "      <th>market_segment_type</th>\n",
       "      <th>repeated_guest</th>\n",
       "      <th>no_of_previous_cancellations</th>\n",
       "      <th>no_of_previous_bookings_not_canceled</th>\n",
       "      <th>avg_price_per_room</th>\n",
       "      <th>no_of_special_requests</th>\n",
       "      <th>booking_status</th>\n",
       "    </tr>\n",
       "  </thead>\n",
       "  <tbody>\n",
       "    <tr>\n",
       "      <th>0</th>\n",
       "      <td>INN00001</td>\n",
       "      <td>2</td>\n",
       "      <td>0</td>\n",
       "      <td>1</td>\n",
       "      <td>2</td>\n",
       "      <td>0</td>\n",
       "      <td>0</td>\n",
       "      <td>0</td>\n",
       "      <td>224</td>\n",
       "      <td>2017</td>\n",
       "      <td>10</td>\n",
       "      <td>2</td>\n",
       "      <td>0</td>\n",
       "      <td>0</td>\n",
       "      <td>0</td>\n",
       "      <td>0</td>\n",
       "      <td>65.00</td>\n",
       "      <td>0</td>\n",
       "      <td>0</td>\n",
       "    </tr>\n",
       "    <tr>\n",
       "      <th>1</th>\n",
       "      <td>INN00002</td>\n",
       "      <td>2</td>\n",
       "      <td>0</td>\n",
       "      <td>2</td>\n",
       "      <td>3</td>\n",
       "      <td>1</td>\n",
       "      <td>0</td>\n",
       "      <td>0</td>\n",
       "      <td>5</td>\n",
       "      <td>2018</td>\n",
       "      <td>11</td>\n",
       "      <td>6</td>\n",
       "      <td>1</td>\n",
       "      <td>0</td>\n",
       "      <td>0</td>\n",
       "      <td>0</td>\n",
       "      <td>106.68</td>\n",
       "      <td>1</td>\n",
       "      <td>0</td>\n",
       "    </tr>\n",
       "    <tr>\n",
       "      <th>2</th>\n",
       "      <td>INN00003</td>\n",
       "      <td>1</td>\n",
       "      <td>0</td>\n",
       "      <td>2</td>\n",
       "      <td>1</td>\n",
       "      <td>0</td>\n",
       "      <td>0</td>\n",
       "      <td>0</td>\n",
       "      <td>1</td>\n",
       "      <td>2018</td>\n",
       "      <td>2</td>\n",
       "      <td>28</td>\n",
       "      <td>1</td>\n",
       "      <td>0</td>\n",
       "      <td>0</td>\n",
       "      <td>0</td>\n",
       "      <td>60.00</td>\n",
       "      <td>0</td>\n",
       "      <td>1</td>\n",
       "    </tr>\n",
       "    <tr>\n",
       "      <th>3</th>\n",
       "      <td>INN00004</td>\n",
       "      <td>2</td>\n",
       "      <td>0</td>\n",
       "      <td>0</td>\n",
       "      <td>2</td>\n",
       "      <td>0</td>\n",
       "      <td>0</td>\n",
       "      <td>0</td>\n",
       "      <td>211</td>\n",
       "      <td>2018</td>\n",
       "      <td>5</td>\n",
       "      <td>20</td>\n",
       "      <td>1</td>\n",
       "      <td>0</td>\n",
       "      <td>0</td>\n",
       "      <td>0</td>\n",
       "      <td>100.00</td>\n",
       "      <td>0</td>\n",
       "      <td>1</td>\n",
       "    </tr>\n",
       "    <tr>\n",
       "      <th>4</th>\n",
       "      <td>INN00005</td>\n",
       "      <td>2</td>\n",
       "      <td>0</td>\n",
       "      <td>1</td>\n",
       "      <td>1</td>\n",
       "      <td>1</td>\n",
       "      <td>0</td>\n",
       "      <td>0</td>\n",
       "      <td>48</td>\n",
       "      <td>2018</td>\n",
       "      <td>4</td>\n",
       "      <td>11</td>\n",
       "      <td>1</td>\n",
       "      <td>0</td>\n",
       "      <td>0</td>\n",
       "      <td>0</td>\n",
       "      <td>94.50</td>\n",
       "      <td>0</td>\n",
       "      <td>1</td>\n",
       "    </tr>\n",
       "  </tbody>\n",
       "</table>\n",
       "</div>"
      ],
      "text/plain": [
       "  Booking_ID  no_of_adults  no_of_children  no_of_weekend_nights  \\\n",
       "0   INN00001             2               0                     1   \n",
       "1   INN00002             2               0                     2   \n",
       "2   INN00003             1               0                     2   \n",
       "3   INN00004             2               0                     0   \n",
       "4   INN00005             2               0                     1   \n",
       "\n",
       "   no_of_week_nights  type_of_meal_plan  required_car_parking_space  \\\n",
       "0                  2                  0                           0   \n",
       "1                  3                  1                           0   \n",
       "2                  1                  0                           0   \n",
       "3                  2                  0                           0   \n",
       "4                  1                  1                           0   \n",
       "\n",
       "   room_type_reserved  lead_time  arrival_year  arrival_month  arrival_date  \\\n",
       "0                   0        224          2017             10             2   \n",
       "1                   0          5          2018             11             6   \n",
       "2                   0          1          2018              2            28   \n",
       "3                   0        211          2018              5            20   \n",
       "4                   0         48          2018              4            11   \n",
       "\n",
       "   market_segment_type  repeated_guest  no_of_previous_cancellations  \\\n",
       "0                    0               0                             0   \n",
       "1                    1               0                             0   \n",
       "2                    1               0                             0   \n",
       "3                    1               0                             0   \n",
       "4                    1               0                             0   \n",
       "\n",
       "   no_of_previous_bookings_not_canceled  avg_price_per_room  \\\n",
       "0                                     0               65.00   \n",
       "1                                     0              106.68   \n",
       "2                                     0               60.00   \n",
       "3                                     0              100.00   \n",
       "4                                     0               94.50   \n",
       "\n",
       "   no_of_special_requests  booking_status  \n",
       "0                       0               0  \n",
       "1                       1               0  \n",
       "2                       0               1  \n",
       "3                       0               1  \n",
       "4                       0               1  "
      ]
     },
     "execution_count": 7,
     "metadata": {},
     "output_type": "execute_result"
    }
   ],
   "source": [
    "data_encoding = data.replace({\n",
    "    'room_type_reserved':{'Room_Type 1': 0, 'Room_Type 2': 1, 'Room_Type 3': 2,\n",
    "                           'Room_Type 4': 3, 'Room_Type 5': 4, 'Room_Type 6': 5, 'Room_Type 7': 6},\n",
    "    'type_of_meal_plan':{'Meal Plan 1': 0, 'Not Selected': 1, 'Meal Plan 2': 2, 'Meal Plan 3': 3},\n",
    "    'booking_status':{'Not_Canceled': 0, 'Canceled': 1},\n",
    "    'market_segment_type':{'Offline': 0, 'Online': 1, 'Corporate': 2, 'Aviation': 3,'Complementary':4},\n",
    "})\n",
    "\n",
    "data_encoding.head()"
   ]
  },
  {
   "cell_type": "code",
   "execution_count": 8,
   "metadata": {
    "execution": {
     "iopub.execute_input": "2023-12-27T15:18:13.906561Z",
     "iopub.status.busy": "2023-12-27T15:18:13.906306Z",
     "iopub.status.idle": "2023-12-27T15:18:13.917533Z",
     "shell.execute_reply": "2023-12-27T15:18:13.916538Z",
     "shell.execute_reply.started": "2023-12-27T15:18:13.906539Z"
    }
   },
   "outputs": [],
   "source": [
    "dataClean=data_encoding.drop(columns = ['Booking_ID'])"
   ]
  },
  {
   "cell_type": "markdown",
   "metadata": {},
   "source": [
    "<h3 style=\"color:#023e8a;\">Target column</h3>"
   ]
  },
  {
   "cell_type": "code",
   "execution_count": 9,
   "metadata": {
    "execution": {
     "iopub.execute_input": "2023-12-27T15:18:13.918904Z",
     "iopub.status.busy": "2023-12-27T15:18:13.918567Z",
     "iopub.status.idle": "2023-12-27T15:18:13.927336Z",
     "shell.execute_reply": "2023-12-27T15:18:13.926503Z",
     "shell.execute_reply.started": "2023-12-27T15:18:13.918878Z"
    }
   },
   "outputs": [
    {
     "name": "stdout",
     "output_type": "stream",
     "text": [
      "Column Name: booking_status\n",
      "0        0\n",
      "1        0\n",
      "2        1\n",
      "3        1\n",
      "4        1\n",
      "        ..\n",
      "36270    0\n",
      "36271    1\n",
      "36272    0\n",
      "36273    1\n",
      "36274    0\n",
      "Name: booking_status, Length: 36275, dtype: int64\n"
     ]
    }
   ],
   "source": [
    "selected_column = 'booking_status'\n",
    "print(f\"Column Name: {selected_column}\")\n",
    "print(dataClean[selected_column])"
   ]
  },
  {
   "cell_type": "markdown",
   "metadata": {},
   "source": [
    "<h3 style=\"color:#023e8a;\">Splitting dataset to input and output</h3>"
   ]
  },
  {
   "cell_type": "code",
   "execution_count": 10,
   "metadata": {
    "execution": {
     "iopub.execute_input": "2023-12-27T15:18:13.932174Z",
     "iopub.status.busy": "2023-12-27T15:18:13.931896Z",
     "iopub.status.idle": "2023-12-27T15:18:13.941653Z",
     "shell.execute_reply": "2023-12-27T15:18:13.940649Z",
     "shell.execute_reply.started": "2023-12-27T15:18:13.932150Z"
    }
   },
   "outputs": [],
   "source": [
    "data_input = dataClean.drop(columns = ['booking_status'])\n",
    "data_output = dataClean['booking_status']"
   ]
  },
  {
   "cell_type": "code",
   "execution_count": 11,
   "metadata": {
    "execution": {
     "iopub.execute_input": "2023-12-27T15:18:13.943181Z",
     "iopub.status.busy": "2023-12-27T15:18:13.942846Z",
     "iopub.status.idle": "2023-12-27T15:18:13.950454Z",
     "shell.execute_reply": "2023-12-27T15:18:13.949611Z",
     "shell.execute_reply.started": "2023-12-27T15:18:13.943150Z"
    }
   },
   "outputs": [
    {
     "data": {
      "text/plain": [
       "0        0\n",
       "1        0\n",
       "2        1\n",
       "3        1\n",
       "4        1\n",
       "        ..\n",
       "36270    0\n",
       "36271    1\n",
       "36272    0\n",
       "36273    1\n",
       "36274    0\n",
       "Name: booking_status, Length: 36275, dtype: int64"
      ]
     },
     "execution_count": 11,
     "metadata": {},
     "output_type": "execute_result"
    }
   ],
   "source": [
    "data_output"
   ]
  },
  {
   "cell_type": "code",
   "execution_count": 12,
   "metadata": {
    "execution": {
     "iopub.execute_input": "2023-12-27T15:18:13.952238Z",
     "iopub.status.busy": "2023-12-27T15:18:13.951921Z",
     "iopub.status.idle": "2023-12-27T15:18:13.968197Z",
     "shell.execute_reply": "2023-12-27T15:18:13.967334Z",
     "shell.execute_reply.started": "2023-12-27T15:18:13.952207Z"
    }
   },
   "outputs": [
    {
     "data": {
      "text/html": [
       "<div>\n",
       "<style scoped>\n",
       "    .dataframe tbody tr th:only-of-type {\n",
       "        vertical-align: middle;\n",
       "    }\n",
       "\n",
       "    .dataframe tbody tr th {\n",
       "        vertical-align: top;\n",
       "    }\n",
       "\n",
       "    .dataframe thead th {\n",
       "        text-align: right;\n",
       "    }\n",
       "</style>\n",
       "<table border=\"1\" class=\"dataframe\">\n",
       "  <thead>\n",
       "    <tr style=\"text-align: right;\">\n",
       "      <th></th>\n",
       "      <th>no_of_adults</th>\n",
       "      <th>no_of_children</th>\n",
       "      <th>no_of_weekend_nights</th>\n",
       "      <th>no_of_week_nights</th>\n",
       "      <th>type_of_meal_plan</th>\n",
       "      <th>required_car_parking_space</th>\n",
       "      <th>room_type_reserved</th>\n",
       "      <th>lead_time</th>\n",
       "      <th>arrival_year</th>\n",
       "      <th>arrival_month</th>\n",
       "      <th>arrival_date</th>\n",
       "      <th>market_segment_type</th>\n",
       "      <th>repeated_guest</th>\n",
       "      <th>no_of_previous_cancellations</th>\n",
       "      <th>no_of_previous_bookings_not_canceled</th>\n",
       "      <th>avg_price_per_room</th>\n",
       "      <th>no_of_special_requests</th>\n",
       "      <th>booking_status</th>\n",
       "    </tr>\n",
       "  </thead>\n",
       "  <tbody>\n",
       "    <tr>\n",
       "      <th>0</th>\n",
       "      <td>2</td>\n",
       "      <td>0</td>\n",
       "      <td>1</td>\n",
       "      <td>2</td>\n",
       "      <td>0</td>\n",
       "      <td>0</td>\n",
       "      <td>0</td>\n",
       "      <td>224</td>\n",
       "      <td>2017</td>\n",
       "      <td>10</td>\n",
       "      <td>2</td>\n",
       "      <td>0</td>\n",
       "      <td>0</td>\n",
       "      <td>0</td>\n",
       "      <td>0</td>\n",
       "      <td>65.00</td>\n",
       "      <td>0</td>\n",
       "      <td>0</td>\n",
       "    </tr>\n",
       "    <tr>\n",
       "      <th>1</th>\n",
       "      <td>2</td>\n",
       "      <td>0</td>\n",
       "      <td>2</td>\n",
       "      <td>3</td>\n",
       "      <td>1</td>\n",
       "      <td>0</td>\n",
       "      <td>0</td>\n",
       "      <td>5</td>\n",
       "      <td>2018</td>\n",
       "      <td>11</td>\n",
       "      <td>6</td>\n",
       "      <td>1</td>\n",
       "      <td>0</td>\n",
       "      <td>0</td>\n",
       "      <td>0</td>\n",
       "      <td>106.68</td>\n",
       "      <td>1</td>\n",
       "      <td>0</td>\n",
       "    </tr>\n",
       "    <tr>\n",
       "      <th>2</th>\n",
       "      <td>1</td>\n",
       "      <td>0</td>\n",
       "      <td>2</td>\n",
       "      <td>1</td>\n",
       "      <td>0</td>\n",
       "      <td>0</td>\n",
       "      <td>0</td>\n",
       "      <td>1</td>\n",
       "      <td>2018</td>\n",
       "      <td>2</td>\n",
       "      <td>28</td>\n",
       "      <td>1</td>\n",
       "      <td>0</td>\n",
       "      <td>0</td>\n",
       "      <td>0</td>\n",
       "      <td>60.00</td>\n",
       "      <td>0</td>\n",
       "      <td>1</td>\n",
       "    </tr>\n",
       "    <tr>\n",
       "      <th>3</th>\n",
       "      <td>2</td>\n",
       "      <td>0</td>\n",
       "      <td>0</td>\n",
       "      <td>2</td>\n",
       "      <td>0</td>\n",
       "      <td>0</td>\n",
       "      <td>0</td>\n",
       "      <td>211</td>\n",
       "      <td>2018</td>\n",
       "      <td>5</td>\n",
       "      <td>20</td>\n",
       "      <td>1</td>\n",
       "      <td>0</td>\n",
       "      <td>0</td>\n",
       "      <td>0</td>\n",
       "      <td>100.00</td>\n",
       "      <td>0</td>\n",
       "      <td>1</td>\n",
       "    </tr>\n",
       "    <tr>\n",
       "      <th>4</th>\n",
       "      <td>2</td>\n",
       "      <td>0</td>\n",
       "      <td>1</td>\n",
       "      <td>1</td>\n",
       "      <td>1</td>\n",
       "      <td>0</td>\n",
       "      <td>0</td>\n",
       "      <td>48</td>\n",
       "      <td>2018</td>\n",
       "      <td>4</td>\n",
       "      <td>11</td>\n",
       "      <td>1</td>\n",
       "      <td>0</td>\n",
       "      <td>0</td>\n",
       "      <td>0</td>\n",
       "      <td>94.50</td>\n",
       "      <td>0</td>\n",
       "      <td>1</td>\n",
       "    </tr>\n",
       "  </tbody>\n",
       "</table>\n",
       "</div>"
      ],
      "text/plain": [
       "   no_of_adults  no_of_children  no_of_weekend_nights  no_of_week_nights  \\\n",
       "0             2               0                     1                  2   \n",
       "1             2               0                     2                  3   \n",
       "2             1               0                     2                  1   \n",
       "3             2               0                     0                  2   \n",
       "4             2               0                     1                  1   \n",
       "\n",
       "   type_of_meal_plan  required_car_parking_space  room_type_reserved  \\\n",
       "0                  0                           0                   0   \n",
       "1                  1                           0                   0   \n",
       "2                  0                           0                   0   \n",
       "3                  0                           0                   0   \n",
       "4                  1                           0                   0   \n",
       "\n",
       "   lead_time  arrival_year  arrival_month  arrival_date  market_segment_type  \\\n",
       "0        224          2017             10             2                    0   \n",
       "1          5          2018             11             6                    1   \n",
       "2          1          2018              2            28                    1   \n",
       "3        211          2018              5            20                    1   \n",
       "4         48          2018              4            11                    1   \n",
       "\n",
       "   repeated_guest  no_of_previous_cancellations  \\\n",
       "0               0                             0   \n",
       "1               0                             0   \n",
       "2               0                             0   \n",
       "3               0                             0   \n",
       "4               0                             0   \n",
       "\n",
       "   no_of_previous_bookings_not_canceled  avg_price_per_room  \\\n",
       "0                                     0               65.00   \n",
       "1                                     0              106.68   \n",
       "2                                     0               60.00   \n",
       "3                                     0              100.00   \n",
       "4                                     0               94.50   \n",
       "\n",
       "   no_of_special_requests  booking_status  \n",
       "0                       0               0  \n",
       "1                       1               0  \n",
       "2                       0               1  \n",
       "3                       0               1  \n",
       "4                       0               1  "
      ]
     },
     "execution_count": 12,
     "metadata": {},
     "output_type": "execute_result"
    }
   ],
   "source": [
    "dataClean.head()"
   ]
  },
  {
   "cell_type": "code",
   "execution_count": 13,
   "metadata": {
    "execution": {
     "iopub.execute_input": "2023-12-27T15:18:13.969685Z",
     "iopub.status.busy": "2023-12-27T15:18:13.969328Z",
     "iopub.status.idle": "2023-12-27T15:18:13.976502Z",
     "shell.execute_reply": "2023-12-27T15:18:13.975690Z",
     "shell.execute_reply.started": "2023-12-27T15:18:13.969634Z"
    }
   },
   "outputs": [
    {
     "name": "stdout",
     "output_type": "stream",
     "text": [
      "Number of samples : 36275\n",
      "Number of features : 18\n"
     ]
    }
   ],
   "source": [
    "num_samples = dataClean.shape[0] \n",
    "num_features = dataClean.shape[1]\n",
    "\n",
    "print(f'Number of samples : {num_samples}')\n",
    "print(f'Number of features : {num_features}')"
   ]
  },
  {
   "cell_type": "markdown",
   "metadata": {
    "execution": {
     "iopub.execute_input": "2023-12-24T00:22:23.892050Z",
     "iopub.status.busy": "2023-12-24T00:22:23.891611Z",
     "iopub.status.idle": "2023-12-24T00:22:23.898684Z",
     "shell.execute_reply": "2023-12-24T00:22:23.897352Z",
     "shell.execute_reply.started": "2023-12-24T00:22:23.892017Z"
    }
   },
   "source": [
    "<h3 style=\"color:#023e8a;\">Splitting dataset into Training, Validation and Testing\n",
    "</h3>"
   ]
  },
  {
   "cell_type": "code",
   "execution_count": 14,
   "metadata": {
    "execution": {
     "iopub.execute_input": "2023-12-27T15:18:13.977875Z",
     "iopub.status.busy": "2023-12-27T15:18:13.977523Z",
     "iopub.status.idle": "2023-12-27T15:18:14.853562Z",
     "shell.execute_reply": "2023-12-27T15:18:14.852575Z",
     "shell.execute_reply.started": "2023-12-27T15:18:13.977842Z"
    }
   },
   "outputs": [
    {
     "name": "stdout",
     "output_type": "stream",
     "text": [
      "X_train:  (17774, 17)\n",
      "y_train:  (17774,)\n",
      "--------------------------------------------------\n",
      "X_val (7618, 17)\n",
      "y_val (7618,)\n",
      "--------------------------------------------------\n",
      "X_test (10883, 17)\n",
      "y_test (10883,)\n"
     ]
    }
   ],
   "source": [
    "from sklearn.model_selection import train_test_split\n",
    "\n",
    "X, X_test, y, y_test = train_test_split(data_input, data_output, random_state=1, test_size=.30)\n",
    "\n",
    "X_train,X_val, y_train, y_val = train_test_split(X, y, random_state=1, test_size=0.3)\n",
    "\n",
    "print('X_train: ', X_train.shape)\n",
    "print('y_train: ', y_train.shape)\n",
    "print('-'*50)\n",
    "print('X_val', X_val.shape)\n",
    "print('y_val', y_val.shape)\n",
    "print('-'*50)\n",
    "print('X_test', X_test.shape)\n",
    "print('y_test', y_test.shape)"
   ]
  },
  {
   "cell_type": "markdown",
   "metadata": {},
   "source": [
    "<h3 style=\"color:#023e8a;\">Checking for imbalanced data\n",
    "</h3>"
   ]
  },
  {
   "cell_type": "code",
   "execution_count": 15,
   "metadata": {
    "execution": {
     "iopub.execute_input": "2023-12-27T15:18:14.855010Z",
     "iopub.status.busy": "2023-12-27T15:18:14.854730Z",
     "iopub.status.idle": "2023-12-27T15:18:14.864181Z",
     "shell.execute_reply": "2023-12-27T15:18:14.863262Z",
     "shell.execute_reply.started": "2023-12-27T15:18:14.854985Z"
    }
   },
   "outputs": [
    {
     "data": {
      "text/plain": [
       "booking_status\n",
       "0    11854\n",
       "1     5920\n",
       "Name: count, dtype: int64"
      ]
     },
     "execution_count": 15,
     "metadata": {},
     "output_type": "execute_result"
    }
   ],
   "source": [
    "y_train.value_counts()"
   ]
  },
  {
   "cell_type": "code",
   "execution_count": 16,
   "metadata": {
    "execution": {
     "iopub.execute_input": "2023-12-27T15:18:14.865566Z",
     "iopub.status.busy": "2023-12-27T15:18:14.865288Z",
     "iopub.status.idle": "2023-12-27T15:18:15.123970Z",
     "shell.execute_reply": "2023-12-27T15:18:15.123038Z",
     "shell.execute_reply.started": "2023-12-27T15:18:14.865542Z"
    }
   },
   "outputs": [
    {
     "data": {
      "text/plain": [
       "<Axes: xlabel='booking_status'>"
      ]
     },
     "execution_count": 16,
     "metadata": {},
     "output_type": "execute_result"
    },
    {
     "data": {
      "image/png": "[encoded data removed]",
      "text/plain": [
       "<Figure size 640x480 with 1 Axes>"
      ]
     },
     "metadata": {},
     "output_type": "display_data"
    }
   ],
   "source": [
    "y_train.value_counts().plot.bar()"
   ]
  },
  {
   "cell_type": "markdown",
   "metadata": {},
   "source": [
    "<h3 style=\"color:#023e8a;\">Standard Scaler\n",
    "</h3>"
   ]
  },
  {
   "cell_type": "code",
   "execution_count": 17,
   "metadata": {
    "execution": {
     "iopub.execute_input": "2023-12-27T15:18:15.125395Z",
     "iopub.status.busy": "2023-12-27T15:18:15.125109Z",
     "iopub.status.idle": "2023-12-27T15:18:15.140041Z",
     "shell.execute_reply": "2023-12-27T15:18:15.139128Z",
     "shell.execute_reply.started": "2023-12-27T15:18:15.125369Z"
    }
   },
   "outputs": [
    {
     "data": {
      "text/html": [
       "<style>#sk-container-id-1 {color: black;background-color: white;}#sk-container-id-1 pre{padding: 0;}#sk-container-id-1 div.sk-toggleable {background-color: white;}#sk-container-id-1 label.sk-toggleable__label {cursor: pointer;display: block;width: 100%;margin-bottom: 0;padding: 0.3em;box-sizing: border-box;text-align: center;}#sk-container-id-1 label.sk-toggleable__label-arrow:before {content: \"▸\";float: left;margin-right: 0.25em;color: #696969;}#sk-container-id-1 label.sk-toggleable__label-arrow:hover:before {color: black;}#sk-container-id-1 div.sk-estimator:hover label.sk-toggleable__label-arrow:before {color: black;}#sk-container-id-1 div.sk-toggleable__content {max-height: 0;max-width: 0;overflow: hidden;text-align: left;background-color: #f0f8ff;}#sk-container-id-1 div.sk-toggleable__content pre {margin: 0.2em;color: black;border-radius: 0.25em;background-color: #f0f8ff;}#sk-container-id-1 input.sk-toggleable__control:checked~div.sk-toggleable__content {max-height: 200px;max-width: 100%;overflow: auto;}#sk-container-id-1 input.sk-toggleable__control:checked~label.sk-toggleable__label-arrow:before {content: \"▾\";}#sk-container-id-1 div.sk-estimator input.sk-toggleable__control:checked~label.sk-toggleable__label {background-color: #d4ebff;}#sk-container-id-1 div.sk-label input.sk-toggleable__control:checked~label.sk-toggleable__label {background-color: #d4ebff;}#sk-container-id-1 input.sk-hidden--visually {border: 0;clip: rect(1px 1px 1px 1px);clip: rect(1px, 1px, 1px, 1px);height: 1px;margin: -1px;overflow: hidden;padding: 0;position: absolute;width: 1px;}#sk-container-id-1 div.sk-estimator {font-family: monospace;background-color: #f0f8ff;border: 1px dotted black;border-radius: 0.25em;box-sizing: border-box;margin-bottom: 0.5em;}#sk-container-id-1 div.sk-estimator:hover {background-color: #d4ebff;}#sk-container-id-1 div.sk-parallel-item::after {content: \"\";width: 100%;border-bottom: 1px solid gray;flex-grow: 1;}#sk-container-id-1 div.sk-label:hover label.sk-toggleable__label {background-color: #d4ebff;}#sk-container-id-1 div.sk-serial::before {content: \"\";position: absolute;border-left: 1px solid gray;box-sizing: border-box;top: 0;bottom: 0;left: 50%;z-index: 0;}#sk-container-id-1 div.sk-serial {display: flex;flex-direction: column;align-items: center;background-color: white;padding-right: 0.2em;padding-left: 0.2em;position: relative;}#sk-container-id-1 div.sk-item {position: relative;z-index: 1;}#sk-container-id-1 div.sk-parallel {display: flex;align-items: stretch;justify-content: center;background-color: white;position: relative;}#sk-container-id-1 div.sk-item::before, #sk-container-id-1 div.sk-parallel-item::before {content: \"\";position: absolute;border-left: 1px solid gray;box-sizing: border-box;top: 0;bottom: 0;left: 50%;z-index: -1;}#sk-container-id-1 div.sk-parallel-item {display: flex;flex-direction: column;z-index: 1;position: relative;background-color: white;}#sk-container-id-1 div.sk-parallel-item:first-child::after {align-self: flex-end;width: 50%;}#sk-container-id-1 div.sk-parallel-item:last-child::after {align-self: flex-start;width: 50%;}#sk-container-id-1 div.sk-parallel-item:only-child::after {width: 0;}#sk-container-id-1 div.sk-dashed-wrapped {border: 1px dashed gray;margin: 0 0.4em 0.5em 0.4em;box-sizing: border-box;padding-bottom: 0.4em;background-color: white;}#sk-container-id-1 div.sk-label label {font-family: monospace;font-weight: bold;display: inline-block;line-height: 1.2em;}#sk-container-id-1 div.sk-label-container {text-align: center;}#sk-container-id-1 div.sk-container {/* jupyter's `normalize.less` sets `[hidden] { display: none; }` but bootstrap.min.css set `[hidden] { display: none !important; }` so we also need the `!important` here to be able to override the default hidden behavior on the sphinx rendered scikit-learn.org. See: https://github.com/scikit-learn/scikit-learn/issues/21755 */display: inline-block !important;position: relative;}#sk-container-id-1 div.sk-text-repr-fallback {display: none;}</style><div id=\"sk-container-id-1\" class=\"sk-top-container\"><div class=\"sk-text-repr-fallback\"><pre>StandardScaler()</pre><b>In a Jupyter environment, please rerun this cell to show the HTML representation or trust the notebook. <br />On GitHub, the HTML representation is unable to render, please try loading this page with nbviewer.org.</b></div><div class=\"sk-container\" hidden><div class=\"sk-item\"><div class=\"sk-estimator sk-toggleable\"><input class=\"sk-toggleable__control sk-hidden--visually\" id=\"sk-estimator-id-1\" type=\"checkbox\" checked><label for=\"sk-estimator-id-1\" class=\"sk-toggleable__label sk-toggleable__label-arrow\">StandardScaler</label><div class=\"sk-toggleable__content\"><pre>StandardScaler()</pre></div></div></div></div></div>"
      ],
      "text/plain": [
       "StandardScaler()"
      ]
     },
     "execution_count": 17,
     "metadata": {},
     "output_type": "execute_result"
    }
   ],
   "source": [
    "from sklearn.preprocessing import StandardScaler\n",
    "scaler = StandardScaler()\n",
    "scaler.fit(X_train)"
   ]
  },
  {
   "cell_type": "code",
   "execution_count": 18,
   "metadata": {
    "execution": {
     "iopub.execute_input": "2023-12-27T15:18:15.141543Z",
     "iopub.status.busy": "2023-12-27T15:18:15.141205Z",
     "iopub.status.idle": "2023-12-27T15:18:15.155040Z",
     "shell.execute_reply": "2023-12-27T15:18:15.153972Z",
     "shell.execute_reply.started": "2023-12-27T15:18:15.141512Z"
    }
   },
   "outputs": [],
   "source": [
    "X_train_scaled = scaler.transform(X_train)\n",
    "X_val_scaled = scaler.transform(X_val)\n",
    "X_test_scaled = scaler.transform(X_test)"
   ]
  },
  {
   "cell_type": "markdown",
   "metadata": {},
   "source": [
    "<h3 style=\"color:#023e8a;\">Helper Function: Evaluate model</h3>"
   ]
  },
  {
   "cell_type": "code",
   "execution_count": 19,
   "metadata": {
    "execution": {
     "iopub.execute_input": "2023-12-27T15:18:15.156971Z",
     "iopub.status.busy": "2023-12-27T15:18:15.156369Z",
     "iopub.status.idle": "2023-12-27T15:18:15.230145Z",
     "shell.execute_reply": "2023-12-27T15:18:15.229092Z",
     "shell.execute_reply.started": "2023-12-27T15:18:15.156936Z"
    }
   },
   "outputs": [],
   "source": [
    "from sklearn.metrics import accuracy_score\n",
    "\n",
    "def evaluate_model(clf, X_train,y_train, X_val ,y_val):\n",
    "    clf.fit(X_train,y_train)\n",
    "    y_pred_train = clf.predict(X_train)\n",
    "    y_pred_val = clf.predict(X_val)\n",
    "    acc_train = accuracy_score(y_train, y_pred_train)\n",
    "    acc_val = accuracy_score(y_val, y_pred_val)\n",
    "    print(clf.__class__.__name__)\n",
    "    print('Acc of training is: ',acc_train)\n",
    "    print('Acc of validation is: ',acc_val)\n",
    "    print('------------------------------')\n",
    "    return acc_train, acc_val"
   ]
  },
  {
   "cell_type": "markdown",
   "metadata": {},
   "source": [
    "<h3 style=\"color:#023e8a;\">Voting Classifier  \n",
    "</h3>"
   ]
  },
  {
   "cell_type": "code",
   "execution_count": 20,
   "metadata": {
    "execution": {
     "iopub.execute_input": "2023-12-27T15:18:15.232013Z",
     "iopub.status.busy": "2023-12-27T15:18:15.231363Z",
     "iopub.status.idle": "2023-12-27T15:18:15.426345Z",
     "shell.execute_reply": "2023-12-27T15:18:15.425421Z",
     "shell.execute_reply.started": "2023-12-27T15:18:15.231976Z"
    }
   },
   "outputs": [],
   "source": [
    "from sklearn.tree import DecisionTreeClassifier\n",
    "from sklearn.linear_model import LogisticRegression \n",
    "from sklearn.svm import SVC\n",
    "from sklearn.ensemble import VotingClassifier"
   ]
  },
  {
   "cell_type": "code",
   "execution_count": 21,
   "metadata": {
    "execution": {
     "iopub.execute_input": "2023-12-27T15:18:15.428169Z",
     "iopub.status.busy": "2023-12-27T15:18:15.427793Z",
     "iopub.status.idle": "2023-12-27T15:18:15.434091Z",
     "shell.execute_reply": "2023-12-27T15:18:15.432991Z",
     "shell.execute_reply.started": "2023-12-27T15:18:15.428135Z"
    }
   },
   "outputs": [],
   "source": [
    "tree_clf = DecisionTreeClassifier(random_state=1)\n",
    "logistic_clf = LogisticRegression(random_state=1)\n",
    "svc_clf = SVC(random_state=1)"
   ]
  },
  {
   "cell_type": "code",
   "execution_count": 22,
   "metadata": {
    "execution": {
     "iopub.execute_input": "2023-12-27T15:18:15.435790Z",
     "iopub.status.busy": "2023-12-27T15:18:15.435433Z",
     "iopub.status.idle": "2023-12-27T15:18:15.443730Z",
     "shell.execute_reply": "2023-12-27T15:18:15.442647Z",
     "shell.execute_reply.started": "2023-12-27T15:18:15.435757Z"
    }
   },
   "outputs": [],
   "source": [
    "estimators = [\n",
    "    ('tree',tree_clf),\n",
    "    ('logistic',logistic_clf),\n",
    "    ('svc',svc_clf)\n",
    "]\n",
    "voting_clf = VotingClassifier(estimators)"
   ]
  },
  {
   "cell_type": "code",
   "execution_count": 23,
   "metadata": {
    "execution": {
     "iopub.execute_input": "2023-12-27T15:18:15.445519Z",
     "iopub.status.busy": "2023-12-27T15:18:15.445142Z",
     "iopub.status.idle": "2023-12-27T15:18:48.830398Z",
     "shell.execute_reply": "2023-12-27T15:18:48.829495Z",
     "shell.execute_reply.started": "2023-12-27T15:18:15.445485Z"
    }
   },
   "outputs": [
    {
     "name": "stdout",
     "output_type": "stream",
     "text": [
      "DecisionTreeClassifier\n",
      "Acc of training is:  0.9942612805221109\n",
      "Acc of validation is:  0.856655290102389\n",
      "------------------------------\n",
      "LogisticRegression\n",
      "Acc of training is:  0.7953752672442894\n",
      "Acc of validation is:  0.7957469152008401\n",
      "------------------------------\n",
      "SVC\n",
      "Acc of training is:  0.8479239338359401\n",
      "Acc of validation is:  0.8346022578104489\n",
      "------------------------------\n",
      "VotingClassifier\n",
      "Acc of training is:  0.878136604028356\n",
      "Acc of validation is:  0.8445786295615647\n",
      "------------------------------\n"
     ]
    }
   ],
   "source": [
    "# Code to evaluate multiple models (including Voting Classifier) using evaluate_model function\n",
    "\n",
    "all_estimators = estimators + [('voting clf', voting_clf)]\n",
    "\n",
    "# Dictionary to store results\n",
    "results = {\n",
    "    'model': [],\n",
    "    'acc train': [],\n",
    "    'acc val': []\n",
    "}\n",
    "\n",
    "# Loop through each estimator\n",
    "for (name, clf) in all_estimators:\n",
    "    # Evaluate the model using evaluate_model function\n",
    "    acc_train, acc_val = evaluate_model(clf, X_train_scaled, y_train, X_val_scaled, y_val)\n",
    "    \n",
    "    # Store model name, training accuracy, and validation accuracy in results dictionary\n",
    "    results['model'].append(name)\n",
    "    results['acc train'].append(acc_train)\n",
    "    results['acc val'].append(acc_val)\n"
   ]
  },
  {
   "cell_type": "code",
   "execution_count": 24,
   "metadata": {
    "execution": {
     "iopub.execute_input": "2023-12-27T15:18:48.832041Z",
     "iopub.status.busy": "2023-12-27T15:18:48.831756Z",
     "iopub.status.idle": "2023-12-27T15:18:48.841949Z",
     "shell.execute_reply": "2023-12-27T15:18:48.841066Z",
     "shell.execute_reply.started": "2023-12-27T15:18:48.832015Z"
    }
   },
   "outputs": [
    {
     "data": {
      "text/html": [
       "<div>\n",
       "<style scoped>\n",
       "    .dataframe tbody tr th:only-of-type {\n",
       "        vertical-align: middle;\n",
       "    }\n",
       "\n",
       "    .dataframe tbody tr th {\n",
       "        vertical-align: top;\n",
       "    }\n",
       "\n",
       "    .dataframe thead th {\n",
       "        text-align: right;\n",
       "    }\n",
       "</style>\n",
       "<table border=\"1\" class=\"dataframe\">\n",
       "  <thead>\n",
       "    <tr style=\"text-align: right;\">\n",
       "      <th></th>\n",
       "      <th>model</th>\n",
       "      <th>acc train</th>\n",
       "      <th>acc val</th>\n",
       "    </tr>\n",
       "  </thead>\n",
       "  <tbody>\n",
       "    <tr>\n",
       "      <th>0</th>\n",
       "      <td>tree</td>\n",
       "      <td>0.994261</td>\n",
       "      <td>0.856655</td>\n",
       "    </tr>\n",
       "    <tr>\n",
       "      <th>1</th>\n",
       "      <td>logistic</td>\n",
       "      <td>0.795375</td>\n",
       "      <td>0.795747</td>\n",
       "    </tr>\n",
       "    <tr>\n",
       "      <th>2</th>\n",
       "      <td>svc</td>\n",
       "      <td>0.847924</td>\n",
       "      <td>0.834602</td>\n",
       "    </tr>\n",
       "    <tr>\n",
       "      <th>3</th>\n",
       "      <td>voting clf</td>\n",
       "      <td>0.878137</td>\n",
       "      <td>0.844579</td>\n",
       "    </tr>\n",
       "  </tbody>\n",
       "</table>\n",
       "</div>"
      ],
      "text/plain": [
       "        model  acc train   acc val\n",
       "0        tree   0.994261  0.856655\n",
       "1    logistic   0.795375  0.795747\n",
       "2         svc   0.847924  0.834602\n",
       "3  voting clf   0.878137  0.844579"
      ]
     },
     "execution_count": 24,
     "metadata": {},
     "output_type": "execute_result"
    }
   ],
   "source": [
    "results_df = pd.DataFrame(results)\n",
    "results_df"
   ]
  },
  {
   "cell_type": "code",
   "execution_count": 25,
   "metadata": {
    "execution": {
     "iopub.execute_input": "2023-12-27T15:18:48.843329Z",
     "iopub.status.busy": "2023-12-27T15:18:48.843047Z",
     "iopub.status.idle": "2023-12-27T15:18:49.292246Z",
     "shell.execute_reply": "2023-12-27T15:18:49.291335Z",
     "shell.execute_reply.started": "2023-12-27T15:18:48.843305Z"
    }
   },
   "outputs": [
    {
     "data": {
      "image/png": "[encoded data removed]",
      "text/plain": [
       "<Figure size 800x800 with 1 Axes>"
      ]
     },
     "metadata": {},
     "output_type": "display_data"
    }
   ],
   "source": [
    "import matplotlib.pyplot as plt\n",
    "results_df.plot.bar(x= 'model' , y=['acc train','acc val'],figsize=(8, 8))\n",
    "plt.yticks( [0.0, 0.1, 0.2, 0.3, 0.4, 0.5, 0.6, 0.7, 0.8, 0.9, 1.0])\n",
    "plt.minorticks_on()\n",
    "plt.tick_params(which='minor', length=4)\n",
    "plt.grid(axis='y')\n",
    "plt.show()"
   ]
  },
  {
   "cell_type": "markdown",
   "metadata": {},
   "source": [
    "<h3 style=\"color:#023e8a;\">KNN Model</h3>"
   ]
  },
  {
   "cell_type": "code",
   "execution_count": 26,
   "metadata": {
    "execution": {
     "iopub.execute_input": "2023-12-27T15:18:49.293845Z",
     "iopub.status.busy": "2023-12-27T15:18:49.293536Z",
     "iopub.status.idle": "2023-12-27T15:18:51.072093Z",
     "shell.execute_reply": "2023-12-27T15:18:51.071121Z",
     "shell.execute_reply.started": "2023-12-27T15:18:49.293819Z"
    }
   },
   "outputs": [
    {
     "name": "stdout",
     "output_type": "stream",
     "text": [
      "KNeighborsClassifier\n",
      "Acc of training is:  0.864633734668617\n",
      "Acc of validation is:  0.8372276187975847\n",
      "------------------------------\n"
     ]
    }
   ],
   "source": [
    "from sklearn.neighbors import KNeighborsClassifier\n",
    "knn_clf = KNeighborsClassifier(n_neighbors=10)\n",
    "acc_train_knn, acc_val_knn = evaluate_model(knn_clf, X_train_scaled, y_train, X_val_scaled,y_val)"
   ]
  },
  {
   "cell_type": "markdown",
   "metadata": {},
   "source": [
    "<h3 style=\"color:#023e8a;\">Extra Trees Classifier Model</h3>"
   ]
  },
  {
   "cell_type": "code",
   "execution_count": 28,
   "metadata": {
    "execution": {
     "iopub.execute_input": "2023-12-27T15:20:11.142992Z",
     "iopub.status.busy": "2023-12-27T15:20:11.142217Z",
     "iopub.status.idle": "2023-12-27T15:20:46.715601Z",
     "shell.execute_reply": "2023-12-27T15:20:46.714672Z",
     "shell.execute_reply.started": "2023-12-27T15:20:11.142956Z"
    }
   },
   "outputs": [
    {
     "name": "stdout",
     "output_type": "stream",
     "text": [
      "Best Parameters: {'max_depth': 9, 'n_estimators': 150}\n",
      "Accuracy on Training Set: 0.8069652301113986\n",
      "Accuracy on Validation Set: 0.805066946705172\n"
     ]
    }
   ],
   "source": [
    "from sklearn.ensemble import ExtraTreesClassifier\n",
    "from sklearn.model_selection import GridSearchCV\n",
    "\n",
    "# Define the ExtraTreesClassifier\n",
    "ex_clf = ExtraTreesClassifier(n_estimators=100, max_depth=5, random_state=1)\n",
    "\n",
    "# Define the parameters grid to search through\n",
    "param_grid = {\n",
    "    'n_estimators': [50, 100, 150],  # Different number of estimators\n",
    "    'max_depth': [3, 5, 7, 9],  # Different maximum depth values\n",
    "}\n",
    "\n",
    "# Create GridSearchCV object\n",
    "grid_search = GridSearchCV(estimator=ex_clf, param_grid=param_grid, cv=5, scoring='accuracy')\n",
    "\n",
    "# Fit the model using GridSearchCV with scaled data\n",
    "grid_search.fit(X_train_scaled, y_train)\n",
    "\n",
    "# Get the best parameters found by GridSearchCV\n",
    "best_params = grid_search.best_params_\n",
    "print(\"Best Parameters:\", best_params)\n",
    "\n",
    "# Get the best estimator/model found by GridSearchCV\n",
    "best_model = grid_search.best_estimator_\n",
    "\n",
    "# Evaluate accuracy on training set\n",
    "accuracy_on_train = best_model.score(X_train_scaled, y_train)\n",
    "print(\"Accuracy on Training Set:\", accuracy_on_train)\n",
    "\n",
    "# Evaluate on validation set\n",
    "accuracy_on_validation = best_model.score(X_val_scaled, y_val)\n",
    "print(\"Accuracy on Validation Set:\", accuracy_on_validation)\n"
   ]
  },
  {
   "cell_type": "markdown",
   "metadata": {},
   "source": [
    "<h3 style=\"color:#023e8a;\">Random Forest Classifier Model</h3>"
   ]
  },
  {
   "cell_type": "code",
   "execution_count": 29,
   "metadata": {
    "execution": {
     "iopub.execute_input": "2023-12-27T15:20:46.719303Z",
     "iopub.status.busy": "2023-12-27T15:20:46.718994Z",
     "iopub.status.idle": "2023-12-27T15:20:47.480512Z",
     "shell.execute_reply": "2023-12-27T15:20:47.479736Z",
     "shell.execute_reply.started": "2023-12-27T15:20:46.719276Z"
    }
   },
   "outputs": [
    {
     "name": "stdout",
     "output_type": "stream",
     "text": [
      "RandomForestClassifier\n",
      "Acc of training is:  0.8789805333633397\n",
      "Acc of validation is:  0.8760829614071934\n",
      "------------------------------\n"
     ]
    }
   ],
   "source": [
    "from sklearn.ensemble import RandomForestClassifier\n",
    "rf_clf = RandomForestClassifier(n_estimators=50, max_depth=9, random_state=1)\n",
    "acc_train_rf, acc_val_rf = evaluate_model(rf_clf, X_train_scaled, y_train, X_val_scaled,y_val)"
   ]
  },
  {
   "cell_type": "code",
   "execution_count": 30,
   "metadata": {
    "execution": {
     "iopub.execute_input": "2023-12-27T15:20:47.482613Z",
     "iopub.status.busy": "2023-12-27T15:20:47.482216Z",
     "iopub.status.idle": "2023-12-27T15:21:39.283196Z",
     "shell.execute_reply": "2023-12-27T15:21:39.282135Z",
     "shell.execute_reply.started": "2023-12-27T15:20:47.482569Z"
    }
   },
   "outputs": [
    {
     "name": "stdout",
     "output_type": "stream",
     "text": [
      "Best Parameters: {'max_depth': 9, 'n_estimators': 50}\n",
      "Accuracy on Training Set: 0.8789805333633397\n",
      "Accuracy on Validation Set: 0.8760829614071934\n"
     ]
    }
   ],
   "source": [
    "from sklearn.ensemble import RandomForestClassifier\n",
    "from sklearn.model_selection import GridSearchCV\n",
    "\n",
    "# Define the RandomForestClassifier\n",
    "rf_clf = RandomForestClassifier(n_estimators=100, max_depth=5, random_state=1)\n",
    "\n",
    "# Define the parameters grid to search through\n",
    "param_grid = {\n",
    "    'n_estimators': [50, 100, 150],  # Different number of estimators\n",
    "    'max_depth': [3, 5, 7, 9],  # Different maximum depth values\n",
    "}\n",
    "\n",
    "# Create GridSearchCV object\n",
    "grid_search = GridSearchCV(estimator=rf_clf, param_grid=param_grid, cv=5, scoring='accuracy')\n",
    "\n",
    "# Fit the model using GridSearchCV with scaled data\n",
    "grid_search.fit(X_train_scaled, y_train)\n",
    "\n",
    "# Get the best parameters found by GridSearchCV\n",
    "best_params = grid_search.best_params_\n",
    "print(\"Best Parameters:\", best_params)\n",
    "\n",
    "# Get the best estimator/model found by GridSearchCV\n",
    "best_model = grid_search.best_estimator_\n",
    "\n",
    "# Evaluate accuracy on training set\n",
    "accuracy_on_train = best_model.score(X_train_scaled, y_train)\n",
    "print(\"Accuracy on Training Set:\", accuracy_on_train)\n",
    "\n",
    "# Evaluate on validation set\n",
    "accuracy_on_validation = best_model.score(X_val_scaled, y_val)\n",
    "print(\"Accuracy on Validation Set:\", accuracy_on_validation)\n"
   ]
  },
  {
   "cell_type": "markdown",
   "metadata": {},
   "source": [
    "<h3 style=\"color:#023e8a;\">Gradient Boosting Classifier Model</h3>"
   ]
  },
  {
   "cell_type": "code",
   "execution_count": 31,
   "metadata": {
    "execution": {
     "iopub.execute_input": "2023-12-27T15:21:39.286487Z",
     "iopub.status.busy": "2023-12-27T15:21:39.286087Z",
     "iopub.status.idle": "2023-12-27T15:50:38.448989Z",
     "shell.execute_reply": "2023-12-27T15:50:38.448040Z",
     "shell.execute_reply.started": "2023-12-27T15:21:39.286451Z"
    }
   },
   "outputs": [
    {
     "name": "stdout",
     "output_type": "stream",
     "text": [
      "Best Parameters: {'learning_rate': 0.05, 'max_depth': 7, 'n_estimators': 400}\n",
      "Accuracy on Training Set: 0.956171936536514\n",
      "Accuracy on Validation Set: 0.8936728800210029\n"
     ]
    }
   ],
   "source": [
    "from sklearn.ensemble import GradientBoostingClassifier\n",
    "from sklearn.model_selection import GridSearchCV\n",
    "\n",
    "# Define the GradientBoostingClassifier\n",
    "gbct_clf = GradientBoostingClassifier(max_depth=1, n_estimators=500, learning_rate=0.05, random_state=1)\n",
    "\n",
    "# Define the parameters grid to search through\n",
    "param_grid = {\n",
    "    'n_estimators': [100, 150, 300, 400],  # Different number of estimators\n",
    "    'max_depth': [3, 5, 7, 9],  # Different maximum depth values\n",
    "    'learning_rate': [0.03, 0.04, 0.05],\n",
    "}\n",
    "\n",
    "# Create GridSearchCV object\n",
    "grid_search = GridSearchCV(estimator=gbct_clf, param_grid=param_grid, cv=5, scoring='accuracy')\n",
    "\n",
    "# Fit the model using GridSearchCV with scaled data\n",
    "grid_search.fit(X_train_scaled, y_train)\n",
    "\n",
    "# Get the best parameters found by GridSearchCV\n",
    "best_params = grid_search.best_params_\n",
    "print(\"Best Parameters:\", best_params)\n",
    "\n",
    "# Get the best estimator/model found by GridSearchCV\n",
    "best_model = grid_search.best_estimator_\n",
    "\n",
    "# Evaluate accuracy on training set\n",
    "accuracy_on_train = best_model.score(X_train_scaled, y_train)\n",
    "print(\"Accuracy on Training Set:\", accuracy_on_train)\n",
    "\n",
    "# Evaluate on validation set\n",
    "accuracy_on_validation = best_model.score(X_val_scaled, y_val)\n",
    "print(\"Accuracy on Validation Set:\", accuracy_on_validation)\n"
   ]
  },
  {
   "cell_type": "markdown",
   "metadata": {},
   "source": [
    "<h3 style=\"color:#023e8a;\">Bagging Classifier Model</h3>"
   ]
  },
  {
   "cell_type": "code",
   "execution_count": 32,
   "metadata": {
    "execution": {
     "iopub.execute_input": "2023-12-27T15:50:38.450680Z",
     "iopub.status.busy": "2023-12-27T15:50:38.450351Z",
     "iopub.status.idle": "2023-12-27T15:50:39.515041Z",
     "shell.execute_reply": "2023-12-27T15:50:39.514090Z",
     "shell.execute_reply.started": "2023-12-27T15:50:38.450631Z"
    }
   },
   "outputs": [
    {
     "name": "stdout",
     "output_type": "stream",
     "text": [
      "RandomForestClassifier\n",
      "Acc of training is:  0.8211995048947901\n",
      "Acc of validation is:  0.8230506694670517\n",
      "------------------------------\n"
     ]
    }
   ],
   "source": [
    "from sklearn.ensemble import BaggingClassifier\n",
    "bagg_clf= BaggingClassifier(\n",
    "    LogisticRegression(random_state=1), n_estimators= 100,\n",
    "    max_samples=0.75, bootstrap=True,random_state=1,n_jobs=-1\n",
    ")  \n",
    "acc_train_bag, acc_val_bag=  evaluate_model(rf_clf, X_train_scaled, y_train, X_val_scaled,y_val)"
   ]
  },
  {
   "cell_type": "markdown",
   "metadata": {},
   "source": [
    "<h3 style=\"color:#023e8a;\">AdaBoostClassifier Model</h3>"
   ]
  },
  {
   "cell_type": "code",
   "execution_count": 33,
   "metadata": {
    "execution": {
     "iopub.execute_input": "2023-12-27T15:50:39.517202Z",
     "iopub.status.busy": "2023-12-27T15:50:39.516325Z",
     "iopub.status.idle": "2023-12-27T15:50:59.564618Z",
     "shell.execute_reply": "2023-12-27T15:50:59.563727Z",
     "shell.execute_reply.started": "2023-12-27T15:50:39.517166Z"
    }
   },
   "outputs": [
    {
     "name": "stdout",
     "output_type": "stream",
     "text": [
      "AdaBoostClassifier\n",
      "Acc of training is:  0.9149319230336447\n",
      "Acc of validation is:  0.8857967970595957\n",
      "------------------------------\n"
     ]
    }
   ],
   "source": [
    "from sklearn.ensemble import AdaBoostClassifier\n",
    "ada_clf=AdaBoostClassifier(\n",
    "    DecisionTreeClassifier(min_samples_leaf=50, max_depth=5, random_state=1),\n",
    "    n_estimators=500,\n",
    "    learning_rate=0.05,\n",
    "    random_state=1\n",
    ")\n",
    "acc_train_ada, acc_val_ada = evaluate_model(ada_clf, X_train_scaled, y_train, X_val_scaled,y_val)"
   ]
  },
  {
   "cell_type": "code",
   "execution_count": 34,
   "metadata": {
    "execution": {
     "iopub.execute_input": "2023-12-27T15:50:59.566126Z",
     "iopub.status.busy": "2023-12-27T15:50:59.565814Z",
     "iopub.status.idle": "2023-12-27T15:50:59.572084Z",
     "shell.execute_reply": "2023-12-27T15:50:59.571233Z",
     "shell.execute_reply.started": "2023-12-27T15:50:59.566101Z"
    }
   },
   "outputs": [],
   "source": [
    "all_results = {\n",
    "'model': [],\n",
    "'acc train': [],\n",
    "'acc val': []\n",
    "}\n",
    "\n",
    "all_results['model'] = results['model'] + ['rf', 'ex', 'ada', 'gbct','Bag','KNN']\n",
    "all_results['acc train'] = results['acc train'] + [ 0.8789805333633397, 0.8069652301113986,0.9149319230336447, 0.956171936536514, 0.8211995048947901, acc_train_knn]\n",
    "all_results['acc val'] = results['acc val'] + [ 0.8760829614071934, 0.805066946705172,0.8857967970595957, 0.8936728800210029, 0.8230506694670517, acc_val_knn]"
   ]
  },
  {
   "cell_type": "code",
   "execution_count": 35,
   "metadata": {
    "execution": {
     "iopub.execute_input": "2023-12-27T15:50:59.573867Z",
     "iopub.status.busy": "2023-12-27T15:50:59.573542Z",
     "iopub.status.idle": "2023-12-27T15:50:59.590184Z",
     "shell.execute_reply": "2023-12-27T15:50:59.589260Z",
     "shell.execute_reply.started": "2023-12-27T15:50:59.573843Z"
    }
   },
   "outputs": [
    {
     "data": {
      "text/html": [
       "<div>\n",
       "<style scoped>\n",
       "    .dataframe tbody tr th:only-of-type {\n",
       "        vertical-align: middle;\n",
       "    }\n",
       "\n",
       "    .dataframe tbody tr th {\n",
       "        vertical-align: top;\n",
       "    }\n",
       "\n",
       "    .dataframe thead th {\n",
       "        text-align: right;\n",
       "    }\n",
       "</style>\n",
       "<table border=\"1\" class=\"dataframe\">\n",
       "  <thead>\n",
       "    <tr style=\"text-align: right;\">\n",
       "      <th></th>\n",
       "      <th>model</th>\n",
       "      <th>acc train</th>\n",
       "      <th>acc val</th>\n",
       "    </tr>\n",
       "  </thead>\n",
       "  <tbody>\n",
       "    <tr>\n",
       "      <th>0</th>\n",
       "      <td>gbct</td>\n",
       "      <td>0.956172</td>\n",
       "      <td>0.893673</td>\n",
       "    </tr>\n",
       "    <tr>\n",
       "      <th>1</th>\n",
       "      <td>ada</td>\n",
       "      <td>0.914932</td>\n",
       "      <td>0.885797</td>\n",
       "    </tr>\n",
       "    <tr>\n",
       "      <th>2</th>\n",
       "      <td>rf</td>\n",
       "      <td>0.878981</td>\n",
       "      <td>0.876083</td>\n",
       "    </tr>\n",
       "    <tr>\n",
       "      <th>3</th>\n",
       "      <td>tree</td>\n",
       "      <td>0.994261</td>\n",
       "      <td>0.856655</td>\n",
       "    </tr>\n",
       "    <tr>\n",
       "      <th>4</th>\n",
       "      <td>voting clf</td>\n",
       "      <td>0.878137</td>\n",
       "      <td>0.844579</td>\n",
       "    </tr>\n",
       "    <tr>\n",
       "      <th>5</th>\n",
       "      <td>KNN</td>\n",
       "      <td>0.864634</td>\n",
       "      <td>0.837228</td>\n",
       "    </tr>\n",
       "    <tr>\n",
       "      <th>6</th>\n",
       "      <td>svc</td>\n",
       "      <td>0.847924</td>\n",
       "      <td>0.834602</td>\n",
       "    </tr>\n",
       "    <tr>\n",
       "      <th>7</th>\n",
       "      <td>Bag</td>\n",
       "      <td>0.821200</td>\n",
       "      <td>0.823051</td>\n",
       "    </tr>\n",
       "    <tr>\n",
       "      <th>8</th>\n",
       "      <td>ex</td>\n",
       "      <td>0.806965</td>\n",
       "      <td>0.805067</td>\n",
       "    </tr>\n",
       "    <tr>\n",
       "      <th>9</th>\n",
       "      <td>logistic</td>\n",
       "      <td>0.795375</td>\n",
       "      <td>0.795747</td>\n",
       "    </tr>\n",
       "  </tbody>\n",
       "</table>\n",
       "</div>"
      ],
      "text/plain": [
       "        model  acc train   acc val\n",
       "0        gbct   0.956172  0.893673\n",
       "1         ada   0.914932  0.885797\n",
       "2          rf   0.878981  0.876083\n",
       "3        tree   0.994261  0.856655\n",
       "4  voting clf   0.878137  0.844579\n",
       "5         KNN   0.864634  0.837228\n",
       "6         svc   0.847924  0.834602\n",
       "7         Bag   0.821200  0.823051\n",
       "8          ex   0.806965  0.805067\n",
       "9    logistic   0.795375  0.795747"
      ]
     },
     "execution_count": 35,
     "metadata": {},
     "output_type": "execute_result"
    }
   ],
   "source": [
    "all_results_df = pd.DataFrame(all_results)\n",
    "all_results_df.sort_values(by='acc val',ascending=False,ignore_index=True)"
   ]
  },
  {
   "cell_type": "code",
   "execution_count": 36,
   "metadata": {
    "execution": {
     "iopub.execute_input": "2023-12-27T15:50:59.592077Z",
     "iopub.status.busy": "2023-12-27T15:50:59.591362Z",
     "iopub.status.idle": "2023-12-27T15:50:59.965982Z",
     "shell.execute_reply": "2023-12-27T15:50:59.965074Z",
     "shell.execute_reply.started": "2023-12-27T15:50:59.592042Z"
    }
   },
   "outputs": [
    {
     "data": {
      "image/png": "[encoded data removed]",
      "text/plain": [
       "<Figure size 1300x600 with 1 Axes>"
      ]
     },
     "metadata": {},
     "output_type": "display_data"
    }
   ],
   "source": [
    "import pandas as pd\n",
    "import matplotlib.pyplot as plt\n",
    "import numpy as np\n",
    "%matplotlib inline\n",
    "ax = all_results_df.plot.bar(x='model', y=['acc train', 'acc val'], figsize=(13, 6))\n",
    "ax.set_xlabel('Model', fontsize=12)  \n",
    "ax.set_ylabel('Accuracy', fontsize=12) \n",
    "plt.title('Accuracy Comparison between Training and Validation')\n",
    "plt.yticks(np.arange(0.0,1.1,0.1))\n",
    "plt.grid(axis='y')\n",
    "plt.show()"
   ]
  },
  {
   "cell_type": "code",
   "execution_count": 37,
   "metadata": {
    "execution": {
     "iopub.execute_input": "2023-12-27T15:50:59.969342Z",
     "iopub.status.busy": "2023-12-27T15:50:59.969072Z",
     "iopub.status.idle": "2023-12-27T15:51:16.167623Z",
     "shell.execute_reply": "2023-12-27T15:51:16.166707Z",
     "shell.execute_reply.started": "2023-12-27T15:50:59.969319Z"
    }
   },
   "outputs": [
    {
     "data": {
      "text/html": [
       "<style>#sk-container-id-2 {color: black;background-color: white;}#sk-container-id-2 pre{padding: 0;}#sk-container-id-2 div.sk-toggleable {background-color: white;}#sk-container-id-2 label.sk-toggleable__label {cursor: pointer;display: block;width: 100%;margin-bottom: 0;padding: 0.3em;box-sizing: border-box;text-align: center;}#sk-container-id-2 label.sk-toggleable__label-arrow:before {content: \"▸\";float: left;margin-right: 0.25em;color: #696969;}#sk-container-id-2 label.sk-toggleable__label-arrow:hover:before {color: black;}#sk-container-id-2 div.sk-estimator:hover label.sk-toggleable__label-arrow:before {color: black;}#sk-container-id-2 div.sk-toggleable__content {max-height: 0;max-width: 0;overflow: hidden;text-align: left;background-color: #f0f8ff;}#sk-container-id-2 div.sk-toggleable__content pre {margin: 0.2em;color: black;border-radius: 0.25em;background-color: #f0f8ff;}#sk-container-id-2 input.sk-toggleable__control:checked~div.sk-toggleable__content {max-height: 200px;max-width: 100%;overflow: auto;}#sk-container-id-2 input.sk-toggleable__control:checked~label.sk-toggleable__label-arrow:before {content: \"▾\";}#sk-container-id-2 div.sk-estimator input.sk-toggleable__control:checked~label.sk-toggleable__label {background-color: #d4ebff;}#sk-container-id-2 div.sk-label input.sk-toggleable__control:checked~label.sk-toggleable__label {background-color: #d4ebff;}#sk-container-id-2 input.sk-hidden--visually {border: 0;clip: rect(1px 1px 1px 1px);clip: rect(1px, 1px, 1px, 1px);height: 1px;margin: -1px;overflow: hidden;padding: 0;position: absolute;width: 1px;}#sk-container-id-2 div.sk-estimator {font-family: monospace;background-color: #f0f8ff;border: 1px dotted black;border-radius: 0.25em;box-sizing: border-box;margin-bottom: 0.5em;}#sk-container-id-2 div.sk-estimator:hover {background-color: #d4ebff;}#sk-container-id-2 div.sk-parallel-item::after {content: \"\";width: 100%;border-bottom: 1px solid gray;flex-grow: 1;}#sk-container-id-2 div.sk-label:hover label.sk-toggleable__label {background-color: #d4ebff;}#sk-container-id-2 div.sk-serial::before {content: \"\";position: absolute;border-left: 1px solid gray;box-sizing: border-box;top: 0;bottom: 0;left: 50%;z-index: 0;}#sk-container-id-2 div.sk-serial {display: flex;flex-direction: column;align-items: center;background-color: white;padding-right: 0.2em;padding-left: 0.2em;position: relative;}#sk-container-id-2 div.sk-item {position: relative;z-index: 1;}#sk-container-id-2 div.sk-parallel {display: flex;align-items: stretch;justify-content: center;background-color: white;position: relative;}#sk-container-id-2 div.sk-item::before, #sk-container-id-2 div.sk-parallel-item::before {content: \"\";position: absolute;border-left: 1px solid gray;box-sizing: border-box;top: 0;bottom: 0;left: 50%;z-index: -1;}#sk-container-id-2 div.sk-parallel-item {display: flex;flex-direction: column;z-index: 1;position: relative;background-color: white;}#sk-container-id-2 div.sk-parallel-item:first-child::after {align-self: flex-end;width: 50%;}#sk-container-id-2 div.sk-parallel-item:last-child::after {align-self: flex-start;width: 50%;}#sk-container-id-2 div.sk-parallel-item:only-child::after {width: 0;}#sk-container-id-2 div.sk-dashed-wrapped {border: 1px dashed gray;margin: 0 0.4em 0.5em 0.4em;box-sizing: border-box;padding-bottom: 0.4em;background-color: white;}#sk-container-id-2 div.sk-label label {font-family: monospace;font-weight: bold;display: inline-block;line-height: 1.2em;}#sk-container-id-2 div.sk-label-container {text-align: center;}#sk-container-id-2 div.sk-container {/* jupyter's `normalize.less` sets `[hidden] { display: none; }` but bootstrap.min.css set `[hidden] { display: none !important; }` so we also need the `!important` here to be able to override the default hidden behavior on the sphinx rendered scikit-learn.org. See: https://github.com/scikit-learn/scikit-learn/issues/21755 */display: inline-block !important;position: relative;}#sk-container-id-2 div.sk-text-repr-fallback {display: none;}</style><div id=\"sk-container-id-2\" class=\"sk-top-container\"><div class=\"sk-text-repr-fallback\"><pre>GradientBoostingClassifier(learning_rate=0.05, max_depth=7, n_estimators=400,\n",
       "                           random_state=1)</pre><b>In a Jupyter environment, please rerun this cell to show the HTML representation or trust the notebook. <br />On GitHub, the HTML representation is unable to render, please try loading this page with nbviewer.org.</b></div><div class=\"sk-container\" hidden><div class=\"sk-item\"><div class=\"sk-estimator sk-toggleable\"><input class=\"sk-toggleable__control sk-hidden--visually\" id=\"sk-estimator-id-2\" type=\"checkbox\" checked><label for=\"sk-estimator-id-2\" class=\"sk-toggleable__label sk-toggleable__label-arrow\">GradientBoostingClassifier</label><div class=\"sk-toggleable__content\"><pre>GradientBoostingClassifier(learning_rate=0.05, max_depth=7, n_estimators=400,\n",
       "                           random_state=1)</pre></div></div></div></div></div>"
      ],
      "text/plain": [
       "GradientBoostingClassifier(learning_rate=0.05, max_depth=7, n_estimators=400,\n",
       "                           random_state=1)"
      ]
     },
     "execution_count": 37,
     "metadata": {},
     "output_type": "execute_result"
    }
   ],
   "source": [
    "from sklearn.ensemble import GradientBoostingClassifier\n",
    "model_best = GradientBoostingClassifier(max_depth=7, n_estimators=400, learning_rate=0.05, random_state=1)\n",
    "model_best.fit(X_train_scaled, y_train)"
   ]
  },
  {
   "cell_type": "code",
   "execution_count": 38,
   "metadata": {
    "execution": {
     "iopub.execute_input": "2023-12-27T15:51:16.168993Z",
     "iopub.status.busy": "2023-12-27T15:51:16.168732Z",
     "iopub.status.idle": "2023-12-27T15:51:16.308437Z",
     "shell.execute_reply": "2023-12-27T15:51:16.307510Z",
     "shell.execute_reply.started": "2023-12-27T15:51:16.168970Z"
    }
   },
   "outputs": [],
   "source": [
    "y_pred_test = model_best.predict(X_test_scaled)"
   ]
  },
  {
   "cell_type": "code",
   "execution_count": 39,
   "metadata": {
    "execution": {
     "iopub.execute_input": "2023-12-27T15:51:16.310409Z",
     "iopub.status.busy": "2023-12-27T15:51:16.309721Z",
     "iopub.status.idle": "2023-12-27T15:51:16.317522Z",
     "shell.execute_reply": "2023-12-27T15:51:16.316652Z",
     "shell.execute_reply.started": "2023-12-27T15:51:16.310374Z"
    }
   },
   "outputs": [
    {
     "name": "stdout",
     "output_type": "stream",
     "text": [
      "Accuracy: 0.8966277680786547\n"
     ]
    }
   ],
   "source": [
    "accuracy=accuracy_score(y_test, y_pred_test)\n",
    "print(\"Accuracy:\", accuracy)"
   ]
  },
  {
   "cell_type": "markdown",
   "metadata": {},
   "source": [
    "<h3 style=\"color:#023e8a;\">Confusion matrix</h3>"
   ]
  },
  {
   "cell_type": "code",
   "execution_count": 44,
   "metadata": {
    "execution": {
     "iopub.execute_input": "2023-12-27T16:31:34.855493Z",
     "iopub.status.busy": "2023-12-27T16:31:34.855117Z",
     "iopub.status.idle": "2023-12-27T16:31:34.918553Z",
     "shell.execute_reply": "2023-12-27T16:31:34.917576Z",
     "shell.execute_reply.started": "2023-12-27T16:31:34.855463Z"
    }
   },
   "outputs": [
    {
     "name": "stdout",
     "output_type": "stream",
     "text": [
      "[[ 348 4827]\n",
      " [  16 2427]]\n"
     ]
    }
   ],
   "source": [
    "from sklearn.metrics import confusion_matrix\n",
    "y_pred_val = model_best.predict(X_val)\n",
    "cf = confusion_matrix(y_val, y_pred_val)\n",
    "print(cf)"
   ]
  },
  {
   "cell_type": "code",
   "execution_count": 45,
   "metadata": {
    "execution": {
     "iopub.execute_input": "2023-12-27T16:31:35.805775Z",
     "iopub.status.busy": "2023-12-27T16:31:35.805376Z",
     "iopub.status.idle": "2023-12-27T16:31:35.811315Z",
     "shell.execute_reply": "2023-12-27T16:31:35.810356Z",
     "shell.execute_reply.started": "2023-12-27T16:31:35.805743Z"
    }
   },
   "outputs": [
    {
     "name": "stdout",
     "output_type": "stream",
     "text": [
      "[[5175]\n",
      " [2443]]\n"
     ]
    }
   ],
   "source": [
    "cf_row_sum = cf.sum(axis=1, keepdims=True)\n",
    "print(cf_row_sum)"
   ]
  },
  {
   "cell_type": "code",
   "execution_count": 46,
   "metadata": {
    "execution": {
     "iopub.execute_input": "2023-12-27T16:31:36.574838Z",
     "iopub.status.busy": "2023-12-27T16:31:36.574100Z",
     "iopub.status.idle": "2023-12-27T16:31:36.579622Z",
     "shell.execute_reply": "2023-12-27T16:31:36.578705Z",
     "shell.execute_reply.started": "2023-12-27T16:31:36.574805Z"
    }
   },
   "outputs": [
    {
     "name": "stdout",
     "output_type": "stream",
     "text": [
      "[[0.06724638 0.93275362]\n",
      " [0.00654932 0.99345068]]\n"
     ]
    }
   ],
   "source": [
    "cf_normalized = cf/cf_row_sum\n",
    "print(cf_normalized)"
   ]
  },
  {
   "cell_type": "code",
   "execution_count": 47,
   "metadata": {
    "execution": {
     "iopub.execute_input": "2023-12-27T16:31:38.114627Z",
     "iopub.status.busy": "2023-12-27T16:31:38.114258Z",
     "iopub.status.idle": "2023-12-27T16:31:38.525030Z",
     "shell.execute_reply": "2023-12-27T16:31:38.523911Z",
     "shell.execute_reply.started": "2023-12-27T16:31:38.114596Z"
    }
   },
   "outputs": [
    {
     "data": {
      "image/png": "[encoded data removed]",
      "text/plain": [
       "<Figure size 640x480 with 2 Axes>"
      ]
     },
     "metadata": {},
     "output_type": "display_data"
    }
   ],
   "source": [
    "import seaborn as sn\n",
    "import matplotlib.pyplot as plt\n",
    "%matplotlib inline\n",
    "\n",
    "sn.heatmap(cf_normalized, annot=True, cmap='Blues')\n",
    "plt.show()"
   ]
  },
  {
   "cell_type": "code",
   "execution_count": 55,
   "metadata": {
    "execution": {
     "iopub.execute_input": "2023-12-27T16:32:50.383024Z",
     "iopub.status.busy": "2023-12-27T16:32:50.382326Z",
     "iopub.status.idle": "2023-12-27T16:32:50.388452Z",
     "shell.execute_reply": "2023-12-27T16:32:50.387364Z",
     "shell.execute_reply.started": "2023-12-27T16:32:50.382992Z"
    }
   },
   "outputs": [],
   "source": [
    "def plot_conf_matrix(model_best, X_val, y_val):\n",
    "    y_pred_val = model_best.predict(X_val)\n",
    "    cf = confusion_matrix(y_val, y_pred_val)\n",
    "    cf_row_sum = cf.sum(axis=1, keepdims=True)\n",
    "    cf_normalized = cf/cf_row_sum\n",
    "    sn.heatmap(cf_normalized, annot=True, cmap='Blues')\n",
    "    plt.show()\n",
    "    return cf"
   ]
  },
  {
   "cell_type": "code",
   "execution_count": 56,
   "metadata": {
    "execution": {
     "iopub.execute_input": "2023-12-27T16:32:51.403404Z",
     "iopub.status.busy": "2023-12-27T16:32:51.403047Z",
     "iopub.status.idle": "2023-12-27T16:32:51.694608Z",
     "shell.execute_reply": "2023-12-27T16:32:51.693706Z",
     "shell.execute_reply.started": "2023-12-27T16:32:51.403373Z"
    }
   },
   "outputs": [
    {
     "data": {
      "image/png": "[encoded data removed]",
      "text/plain": [
       "<Figure size 640x480 with 2 Axes>"
      ]
     },
     "metadata": {},
     "output_type": "display_data"
    },
    {
     "data": {
      "text/plain": [
       "array([[ 348, 4827],\n",
       "       [  16, 2427]])"
      ]
     },
     "execution_count": 56,
     "metadata": {},
     "output_type": "execute_result"
    }
   ],
   "source": [
    "plot_conf_matrix(model_best, X_val, y_val)"
   ]
  },
  {
   "cell_type": "code",
   "execution_count": 57,
   "metadata": {
    "execution": {
     "iopub.execute_input": "2023-12-27T16:32:54.984285Z",
     "iopub.status.busy": "2023-12-27T16:32:54.983927Z",
     "iopub.status.idle": "2023-12-27T16:32:55.008380Z",
     "shell.execute_reply": "2023-12-27T16:32:55.007674Z",
     "shell.execute_reply.started": "2023-12-27T16:32:54.984256Z"
    }
   },
   "outputs": [],
   "source": [
    "import pickle\n",
    "with open('saved-model.pickle', 'wb') as f: \n",
    "    pickle.dump(model_best, f)\n",
    "\n",
    "with open('scaler.pickle', 'wb') as f:\n",
    "    pickle.dump(scaler, f)"
   ]
  },
  {
   "cell_type": "code",
   "execution_count": 58,
   "metadata": {
    "execution": {
     "iopub.execute_input": "2023-12-27T16:32:58.094985Z",
     "iopub.status.busy": "2023-12-27T16:32:58.094595Z",
     "iopub.status.idle": "2023-12-27T16:32:58.118801Z",
     "shell.execute_reply": "2023-12-27T16:32:58.117882Z",
     "shell.execute_reply.started": "2023-12-27T16:32:58.094957Z"
    }
   },
   "outputs": [],
   "source": [
    "with open( 'saved-model.pickle', 'rb') as f:\n",
    "    my_model = pickle.load(f)\n",
    "\n",
    "with open('scaler.pickle', 'rb') as f:\n",
    "    my_scaler = pickle.load(f)"
   ]
  },
  {
   "cell_type": "code",
   "execution_count": 59,
   "metadata": {
    "execution": {
     "iopub.execute_input": "2023-12-27T16:32:59.312352Z",
     "iopub.status.busy": "2023-12-27T16:32:59.311455Z",
     "iopub.status.idle": "2023-12-27T16:32:59.316567Z",
     "shell.execute_reply": "2023-12-27T16:32:59.315708Z",
     "shell.execute_reply.started": "2023-12-27T16:32:59.312316Z"
    }
   },
   "outputs": [],
   "source": [
    "x = [2,0,0,2,0,0,0,211,2018,5,20,1,0,0,0,100.00,0]"
   ]
  },
  {
   "cell_type": "code",
   "execution_count": 60,
   "metadata": {
    "execution": {
     "iopub.execute_input": "2023-12-27T16:33:00.274730Z",
     "iopub.status.busy": "2023-12-27T16:33:00.274106Z",
     "iopub.status.idle": "2023-12-27T16:33:00.278824Z",
     "shell.execute_reply": "2023-12-27T16:33:00.277949Z",
     "shell.execute_reply.started": "2023-12-27T16:33:00.274694Z"
    }
   },
   "outputs": [],
   "source": [
    "x=np.array(x).reshape(1,-1)"
   ]
  },
  {
   "cell_type": "code",
   "execution_count": 61,
   "metadata": {
    "execution": {
     "iopub.execute_input": "2023-12-27T16:33:02.734541Z",
     "iopub.status.busy": "2023-12-27T16:33:02.733729Z",
     "iopub.status.idle": "2023-12-27T16:33:02.740452Z",
     "shell.execute_reply": "2023-12-27T16:33:02.739509Z",
     "shell.execute_reply.started": "2023-12-27T16:33:02.734512Z"
    }
   },
   "outputs": [
    {
     "data": {
      "text/plain": [
       "array([[2.000e+00, 0.000e+00, 0.000e+00, 2.000e+00, 0.000e+00, 0.000e+00,\n",
       "        0.000e+00, 2.110e+02, 2.018e+03, 5.000e+00, 2.000e+01, 1.000e+00,\n",
       "        0.000e+00, 0.000e+00, 0.000e+00, 1.000e+02, 0.000e+00]])"
      ]
     },
     "execution_count": 61,
     "metadata": {},
     "output_type": "execute_result"
    }
   ],
   "source": [
    "x"
   ]
  },
  {
   "cell_type": "code",
   "execution_count": 62,
   "metadata": {
    "execution": {
     "iopub.execute_input": "2023-12-27T16:33:04.154778Z",
     "iopub.status.busy": "2023-12-27T16:33:04.154187Z",
     "iopub.status.idle": "2023-12-27T16:33:04.161389Z",
     "shell.execute_reply": "2023-12-27T16:33:04.160364Z",
     "shell.execute_reply.started": "2023-12-27T16:33:04.154745Z"
    }
   },
   "outputs": [
    {
     "data": {
      "text/plain": [
       "array([[ 0.28832025, -0.26293713, -0.93675337, -0.1491307 , -0.51385246,\n",
       "        -0.17919809, -0.50774275,  1.45423451,  0.46884986, -0.78465185,\n",
       "         0.50120904,  0.30235218, -0.16208555, -0.0652417 , -0.086603  ,\n",
       "        -0.10069158, -0.78188465]])"
      ]
     },
     "execution_count": 62,
     "metadata": {},
     "output_type": "execute_result"
    }
   ],
   "source": [
    "x_scaled = my_scaler.transform(x)\n",
    "x_scaled"
   ]
  },
  {
   "cell_type": "code",
   "execution_count": 63,
   "metadata": {
    "execution": {
     "iopub.execute_input": "2023-12-27T16:33:04.894575Z",
     "iopub.status.busy": "2023-12-27T16:33:04.893948Z",
     "iopub.status.idle": "2023-12-27T16:33:04.901623Z",
     "shell.execute_reply": "2023-12-27T16:33:04.900800Z",
     "shell.execute_reply.started": "2023-12-27T16:33:04.894539Z"
    }
   },
   "outputs": [
    {
     "data": {
      "text/plain": [
       "1"
      ]
     },
     "execution_count": 63,
     "metadata": {},
     "output_type": "execute_result"
    }
   ],
   "source": [
    "y=my_model.predict(x_scaled)\n",
    "y[0]"
   ]
  }
 ],
 "metadata": {
  "kaggle": {
   "accelerator": "gpu",
   "dataSources": [
    {
     "datasetId": 2783627,
     "sourceId": 4807272,
     "sourceType": "datasetVersion"
    }
   ],
   "dockerImageVersionId": 30627,
   "isGpuEnabled": true,
   "isInternetEnabled": true,
   "language": "python",
   "sourceType": "notebook"
  },
  "kernelspec": {
   "display_name": "Python 3 (ipykernel)",
   "language": "python",
   "name": "python3"
  },
  "language_info": {
   "codemirror_mode": {
    "name": "ipython",
    "version": 3
   },
   "file_extension": ".py",
   "mimetype": "text/x-python",
   "name": "python",
   "nbconvert_exporter": "python",
   "pygments_lexer": "ipython3",
   "version": "3.11.3"
  }
 },
 "nbformat": 4,
 "nbformat_minor": 4
}
